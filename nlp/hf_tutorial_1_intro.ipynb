{
 "cells": [
  {
   "cell_type": "code",
   "execution_count": null,
   "id": "687e0f1d-a8b6-4fe9-8fdc-94b814b97374",
   "metadata": {},
   "outputs": [],
   "source": [
    "from transformers import pipeline"
   ]
  },
  {
   "cell_type": "code",
   "execution_count": null,
   "id": "b3e036f3-a135-48a3-a3c8-ba4023bb7906",
   "metadata": {},
   "outputs": [],
   "source": [
    "import numpy as np\n",
    "import matplotlib.pyplot as plt\n",
    "import pandas as pd\n",
    "import tqdm"
   ]
  },
  {
   "cell_type": "markdown",
   "id": "9e5f3864",
   "metadata": {},
   "source": [
    "LLMs: GPT (OpenAI), LlaMA (Meta), Gemma (Google)\n",
    "\n",
    "Diffusion: Dalle, Imagen, Stable diffusion, Midjourney"
   ]
  },
  {
   "cell_type": "markdown",
   "id": "ffc199d7-a9da-4a18-9ae0-d83fddafb680",
   "metadata": {},
   "source": [
    "## 1. Transformer models: 1.3 Transformers"
   ]
  },
  {
   "cell_type": "markdown",
   "id": "ca632c97-d8d0-42a1-bb99-8171c7ff36d1",
   "metadata": {
    "jp-MarkdownHeadingCollapsed": true
   },
   "source": [
    "### Classifier"
   ]
  },
  {
   "cell_type": "code",
   "execution_count": null,
   "id": "63f71469-de2c-49a0-b8f5-68570442f7a2",
   "metadata": {},
   "outputs": [],
   "source": [
    "classifier = pipeline('sentiment-analysis', device='mps')"
   ]
  },
  {
   "cell_type": "code",
   "execution_count": null,
   "id": "b6ccb88b-a624-401b-a7e3-ca7395c5f7cf",
   "metadata": {},
   "outputs": [],
   "source": [
    "sentences = [\n",
    "    \"I've been waiting for a HuggingFace course my whole life.\",\n",
    "    \"I hate this so much!\"\n",
    "]"
   ]
  },
  {
   "cell_type": "code",
   "execution_count": null,
   "id": "e5f31ec1-8d1f-4421-a0a1-4a9833d52ba4",
   "metadata": {},
   "outputs": [],
   "source": [
    "output = classifier(sentences)"
   ]
  },
  {
   "cell_type": "code",
   "execution_count": null,
   "id": "ded02f03-48a5-48c0-abeb-ae607fb02841",
   "metadata": {},
   "outputs": [],
   "source": [
    "output"
   ]
  },
  {
   "cell_type": "markdown",
   "id": "af443c66-5617-4d61-96e8-f386f8668706",
   "metadata": {
    "jp-MarkdownHeadingCollapsed": true
   },
   "source": [
    "### Zero-shot classification"
   ]
  },
  {
   "cell_type": "code",
   "execution_count": null,
   "id": "fb3ee8a4-f0d9-47d4-9412-b1157c7f66c1",
   "metadata": {},
   "outputs": [],
   "source": [
    "classifier = pipeline('zero-shot-classification', device='mps')"
   ]
  },
  {
   "cell_type": "code",
   "execution_count": null,
   "id": "124bbcbd-596a-429f-9e96-e9c94b880d73",
   "metadata": {},
   "outputs": [],
   "source": [
    "output = classifier(\n",
    "    'This is a course about the Transformers library',\n",
    "    candidate_labels=['education', 'politics', 'business']\n",
    ")"
   ]
  },
  {
   "cell_type": "code",
   "execution_count": null,
   "id": "5aa80e80-e00a-4a62-b2ba-76013bc54d48",
   "metadata": {},
   "outputs": [],
   "source": [
    "output"
   ]
  },
  {
   "cell_type": "markdown",
   "id": "8042d889-3477-4c7d-8943-53fd4104e766",
   "metadata": {
    "jp-MarkdownHeadingCollapsed": true
   },
   "source": [
    "### Text generation"
   ]
  },
  {
   "cell_type": "code",
   "execution_count": null,
   "id": "b4e1b7a0-99be-4ae3-9cce-91b83587d198",
   "metadata": {},
   "outputs": [],
   "source": [
    "#generator = pipeline('text-generation', model='distilgpt2', device='mps')"
   ]
  },
  {
   "cell_type": "code",
   "execution_count": null,
   "id": "1882f676-d12d-4763-a228-5171c25e72ed",
   "metadata": {},
   "outputs": [],
   "source": [
    "#output = generator(\n",
    "#    'In this course, we will teach you how to', \n",
    "#    max_length=30, \n",
    "#    num_return_sequences=2\n",
    "#)"
   ]
  },
  {
   "cell_type": "markdown",
   "id": "7db4675e-d7eb-4c32-96a0-49541a7e1b0c",
   "metadata": {
    "jp-MarkdownHeadingCollapsed": true
   },
   "source": [
    "### Mask filling"
   ]
  },
  {
   "cell_type": "code",
   "execution_count": null,
   "id": "262576d2-6a68-4fbc-931a-a4ebbd8cb0fd",
   "metadata": {},
   "outputs": [],
   "source": [
    "#unmasker = pipeline('fill-mask', device='mps')"
   ]
  },
  {
   "cell_type": "code",
   "execution_count": null,
   "id": "3b804eda-d090-4cdb-80d7-3131a575a185",
   "metadata": {},
   "outputs": [],
   "source": [
    "#output = unmasker(\"This course will teach you all about <mask> models.\", top_k=2)"
   ]
  },
  {
   "cell_type": "markdown",
   "id": "1ce3db82-0f94-41e7-ab7c-3d80b600b723",
   "metadata": {
    "jp-MarkdownHeadingCollapsed": true
   },
   "source": [
    "### Named entity recognition"
   ]
  },
  {
   "cell_type": "code",
   "execution_count": null,
   "id": "eeb0427a-fc0a-45bb-9900-e787dd0dbc38",
   "metadata": {},
   "outputs": [],
   "source": [
    "ner = pipeline('ner', grouped_entities=True, device='mps')"
   ]
  },
  {
   "cell_type": "code",
   "execution_count": null,
   "id": "393298f3-1055-46b6-afcd-561226920cf3",
   "metadata": {},
   "outputs": [],
   "source": [
    "output = ner('My name is Sylvain and I work at Hugging Face in Brooklyn.')"
   ]
  },
  {
   "cell_type": "code",
   "execution_count": null,
   "id": "36f0246a-14ef-4b1a-9600-0b186f2cc496",
   "metadata": {},
   "outputs": [],
   "source": [
    "output"
   ]
  },
  {
   "cell_type": "markdown",
   "id": "93a58694-f57c-43e5-9776-06880118c42a",
   "metadata": {
    "jp-MarkdownHeadingCollapsed": true
   },
   "source": [
    "### Question answering"
   ]
  },
  {
   "cell_type": "code",
   "execution_count": null,
   "id": "eada8422-c551-490b-9fd6-3ad59837bac7",
   "metadata": {},
   "outputs": [],
   "source": [
    "question_answerer = pipeline('question-answering', device='mps')"
   ]
  },
  {
   "cell_type": "code",
   "execution_count": null,
   "id": "baacd612-4053-4166-88c0-731f0776e2c5",
   "metadata": {},
   "outputs": [],
   "source": [
    "output = question_answerer(\n",
    "    question='Where do I work?',\n",
    "    context='My name is Sylvain and I work at Hugging Face in Brooklyn.',\n",
    ")"
   ]
  },
  {
   "cell_type": "code",
   "execution_count": null,
   "id": "624b73e9-0efb-40f3-b17f-01b67cda7d28",
   "metadata": {},
   "outputs": [],
   "source": [
    "output"
   ]
  },
  {
   "cell_type": "markdown",
   "id": "1a62c286-a53f-4ed3-b7f5-9981e8d8ec5a",
   "metadata": {
    "jp-MarkdownHeadingCollapsed": true
   },
   "source": [
    "### Summarization"
   ]
  },
  {
   "cell_type": "code",
   "execution_count": null,
   "id": "aba25fc4-6aa7-4697-9b11-89d64e8d18fc",
   "metadata": {},
   "outputs": [],
   "source": [
    "#with open('prompt_summary.txt') as f:\n",
    "#    lines = f.readlines()\n",
    "#prompt_lst = [line[:-1] if i != len(lines) - 1 else line for i, line in enumerate(lines)]\n",
    "#prompt = ''.join(prompt_lst)"
   ]
  },
  {
   "cell_type": "code",
   "execution_count": null,
   "id": "a9aa341c-a949-4cef-937e-1755ad226f51",
   "metadata": {},
   "outputs": [],
   "source": [
    "#summarizer = pipeline('summarization', device='mps')"
   ]
  },
  {
   "cell_type": "code",
   "execution_count": null,
   "id": "aa19ccde-3478-4b26-b7ca-c59728d86d6e",
   "metadata": {},
   "outputs": [],
   "source": [
    "#output = summarizer(prompt)"
   ]
  },
  {
   "cell_type": "markdown",
   "id": "65d3bda0-9e6f-49c8-b971-7b7a189f53f3",
   "metadata": {
    "jp-MarkdownHeadingCollapsed": true
   },
   "source": [
    "### Translation"
   ]
  },
  {
   "cell_type": "code",
   "execution_count": null,
   "id": "61d498fb-c76b-4500-bf2f-188a83b8bd06",
   "metadata": {},
   "outputs": [],
   "source": [
    "#translator = pipeline('translation', model='Helsinki-NLP/opus-mt-fr-en')"
   ]
  },
  {
   "cell_type": "code",
   "execution_count": null,
   "id": "208629c2-66d7-43b8-9e6c-12457e4815b0",
   "metadata": {},
   "outputs": [],
   "source": [
    "#translator(\"Ce cours est produit par Hugging Face.\")"
   ]
  },
  {
   "cell_type": "markdown",
   "id": "1117cc06-ce63-408b-b7a9-03d051f695d7",
   "metadata": {
    "jp-MarkdownHeadingCollapsed": true
   },
   "source": [
    "## Notes"
   ]
  },
  {
   "cell_type": "code",
   "execution_count": null,
   "id": "84b6eee4-5135-47c6-8322-8e75b67ce5d1",
   "metadata": {},
   "outputs": [],
   "source": [
    "name_params = []\n",
    "for n, p in classifier.model.named_parameters():\n",
    "    name_params.append([n, p.numel()])"
   ]
  },
  {
   "cell_type": "code",
   "execution_count": null,
   "id": "0f46c99a-2668-4a12-8b24-0cada1922a44",
   "metadata": {},
   "outputs": [],
   "source": [
    "df = pd.DataFrame(name_params, columns=['name', 'parameters'])"
   ]
  },
  {
   "cell_type": "code",
   "execution_count": null,
   "id": "b7f38f18-1de8-4244-97a7-8df5e75046f9",
   "metadata": {},
   "outputs": [],
   "source": [
    "df['parameters'].sum()"
   ]
  },
  {
   "cell_type": "code",
   "execution_count": null,
   "id": "0629c249-8d29-415c-b515-50ef699edb54",
   "metadata": {},
   "outputs": [],
   "source": [
    "import string"
   ]
  },
  {
   "cell_type": "code",
   "execution_count": null,
   "id": "e81e8498-88f9-452c-8647-841c96a7388d",
   "metadata": {},
   "outputs": [],
   "source": [
    "letters = list(string.ascii_letters)"
   ]
  },
  {
   "cell_type": "code",
   "execution_count": null,
   "id": "9c173e55-6b35-4022-93bb-52b8e43639b1",
   "metadata": {},
   "outputs": [],
   "source": [
    "mean_word_length = 5\n",
    "mean_sentence_length = 1\n",
    "n_sentences = 100\n",
    "arr = np.random.choice(letters, (mean_sentence_length * n_sentences, mean_word_length))"
   ]
  },
  {
   "cell_type": "code",
   "execution_count": null,
   "id": "07cc50a2-44c7-4541-be06-972facce8eae",
   "metadata": {},
   "outputs": [],
   "source": [
    "sentences_rand = []\n",
    "for i in range(0, arr.shape[0], mean_sentence_length):\n",
    "    sent = ''\n",
    "    for j in range(mean_sentence_length):\n",
    "        ind = i+j\n",
    "        sent += ''.join(arr[ind]) + ' '\n",
    "    rand_punc = np.random.choice(['.', '?', '!'])\n",
    "    sentences_rand.append(sent[:-1] + rand_punc)"
   ]
  },
  {
   "cell_type": "code",
   "execution_count": null,
   "id": "4017a0d0-d61b-472f-963c-fd3d90f0f751",
   "metadata": {},
   "outputs": [],
   "source": [
    "output_rand = classifier(sentences_rand)"
   ]
  },
  {
   "cell_type": "code",
   "execution_count": null,
   "id": "4839cbec-b4fc-467c-8826-ef437d396e0e",
   "metadata": {},
   "outputs": [],
   "source": [
    "feature_extractor = pipeline('feature-extraction', device='mps')"
   ]
  },
  {
   "cell_type": "code",
   "execution_count": null,
   "id": "535f7b6c-9921-4b2e-85a2-62f67dff9840",
   "metadata": {},
   "outputs": [],
   "source": [
    "words = ['man', 'woman', 'king', 'queen']"
   ]
  },
  {
   "cell_type": "code",
   "execution_count": null,
   "id": "4ef4a9d9-785a-4bf0-b868-e2ffb525edb5",
   "metadata": {},
   "outputs": [],
   "source": [
    "output = feature_extractor(words)"
   ]
  },
  {
   "cell_type": "code",
   "execution_count": null,
   "id": "272c8b75-415c-4906-9924-d38024637b6d",
   "metadata": {},
   "outputs": [],
   "source": [
    "output = np.array(output)"
   ]
  },
  {
   "cell_type": "code",
   "execution_count": null,
   "id": "648a3155-8917-4e09-bdff-a7c1b20aa78c",
   "metadata": {},
   "outputs": [],
   "source": [
    "output.shape"
   ]
  }
 ],
 "metadata": {
  "kernelspec": {
   "display_name": "Python 3 (ipykernel)",
   "language": "python",
   "name": "python3"
  },
  "language_info": {
   "codemirror_mode": {
    "name": "ipython",
    "version": 3
   },
   "file_extension": ".py",
   "mimetype": "text/x-python",
   "name": "python",
   "nbconvert_exporter": "python",
   "pygments_lexer": "ipython3",
   "version": "3.11.8"
  }
 },
 "nbformat": 4,
 "nbformat_minor": 5
}
