{
 "cells": [
  {
   "cell_type": "code",
   "execution_count": null,
   "id": "687e0f1d-a8b6-4fe9-8fdc-94b814b97374",
   "metadata": {},
   "outputs": [],
   "source": [
    "from transformers import pipeline"
   ]
  },
  {
   "cell_type": "code",
   "execution_count": null,
   "id": "b3e036f3-a135-48a3-a3c8-ba4023bb7906",
   "metadata": {},
   "outputs": [],
   "source": [
    "import numpy as np\n",
    "import matplotlib.pyplot as plt\n",
    "import pandas as pd\n",
    "import scipy\n",
    "import tqdm"
   ]
  },
  {
   "cell_type": "code",
   "execution_count": null,
   "id": "4466d13d-3d41-46eb-a1b1-efb1c5a03292",
   "metadata": {},
   "outputs": [],
   "source": [
    "device = 'mps'"
   ]
  },
  {
   "cell_type": "markdown",
   "id": "ffc199d7-a9da-4a18-9ae0-d83fddafb680",
   "metadata": {},
   "source": [
    "## 2. Using Transformer"
   ]
  },
  {
   "cell_type": "markdown",
   "id": "cb5bbe10-1dcd-4dd3-9a50-0312641cb8a4",
   "metadata": {
    "jp-MarkdownHeadingCollapsed": true
   },
   "source": [
    "### 2.2 Behind the pipeline"
   ]
  },
  {
   "cell_type": "code",
   "execution_count": null,
   "id": "b846802c-1bf2-48b1-a695-12de01b4a207",
   "metadata": {},
   "outputs": [],
   "source": [
    "from transformers import AutoTokenizer, AutoModel, AutoModelForSequenceClassification"
   ]
  },
  {
   "cell_type": "code",
   "execution_count": null,
   "id": "d792b1fb-5d70-47bc-b894-e626f6b90545",
   "metadata": {},
   "outputs": [],
   "source": [
    "checkpoint = \"distilbert-base-uncased-finetuned-sst-2-english\"\n",
    "tokenizer = AutoTokenizer.from_pretrained(checkpoint)\n",
    "model = AutoModel.from_pretrained(checkpoint)\n",
    "seq_class = AutoModelForSequenceClassification.from_pretrained(checkpoint)"
   ]
  },
  {
   "cell_type": "code",
   "execution_count": null,
   "id": "a49b2277-5e7a-4759-84e2-d9c93e045985",
   "metadata": {},
   "outputs": [],
   "source": [
    "model.to(device);\n",
    "seq_class.to(device);"
   ]
  },
  {
   "cell_type": "code",
   "execution_count": null,
   "id": "3aac619a-51e2-4bb9-a338-429d134fd80f",
   "metadata": {},
   "outputs": [],
   "source": [
    "total = 0\n",
    "for n, p in model.named_parameters():\n",
    "    total += p.numel()\n",
    "total"
   ]
  },
  {
   "cell_type": "code",
   "execution_count": null,
   "id": "ae0cace7-00fb-41ad-8f70-626562f28644",
   "metadata": {},
   "outputs": [],
   "source": [
    "raw_inputs = [\n",
    "    \"I've been waiting for a HuggingFace course my whole life.\",\n",
    "    \"I hate this so much!\",\n",
    "]\n",
    "inputs = tokenizer(raw_inputs, padding=True, truncation=True, return_tensors=\"pt\").to(device)"
   ]
  },
  {
   "cell_type": "code",
   "execution_count": null,
   "id": "4e38db08-8c20-4400-a9a9-9ff0ba240d18",
   "metadata": {},
   "outputs": [],
   "source": [
    "inputs['input_ids']"
   ]
  },
  {
   "cell_type": "code",
   "execution_count": null,
   "id": "d0270749-242a-415c-8dcb-705052f8610f",
   "metadata": {},
   "outputs": [],
   "source": [
    "inputs['input_ids'].shape"
   ]
  },
  {
   "cell_type": "code",
   "execution_count": null,
   "id": "c5704d43-05a2-4890-9ef9-80929514aa80",
   "metadata": {},
   "outputs": [],
   "source": [
    "inputs['attention_mask']"
   ]
  },
  {
   "cell_type": "code",
   "execution_count": null,
   "id": "1e8b29a1-0eb7-4563-8730-36375beca863",
   "metadata": {},
   "outputs": [],
   "source": [
    "inputs['attention_mask'].shape"
   ]
  },
  {
   "cell_type": "code",
   "execution_count": null,
   "id": "d9a5699b-0668-4875-a04b-eca88fc1529c",
   "metadata": {},
   "outputs": [],
   "source": [
    "outputs = model(**inputs)"
   ]
  },
  {
   "cell_type": "code",
   "execution_count": null,
   "id": "85124aa6-ed6e-409d-bd05-84b6f251ce2f",
   "metadata": {},
   "outputs": [],
   "source": [
    "outputs.last_hidden_state.shape"
   ]
  },
  {
   "cell_type": "code",
   "execution_count": null,
   "id": "cded1c4b-28a3-4f64-9eae-2fa894960e36",
   "metadata": {},
   "outputs": [],
   "source": [
    "outputs = seq_class(**inputs)"
   ]
  },
  {
   "cell_type": "code",
   "execution_count": null,
   "id": "707cb7e5-e1d0-48ba-a5c6-71e324a7163c",
   "metadata": {},
   "outputs": [],
   "source": [
    "outputs.logits"
   ]
  },
  {
   "cell_type": "code",
   "execution_count": null,
   "id": "9e4fd872-65f4-4001-9292-d9d00caa13f4",
   "metadata": {},
   "outputs": [],
   "source": [
    "scipy.special.softmax(outputs.logits.detach().cpu(), axis=1)"
   ]
  },
  {
   "cell_type": "code",
   "execution_count": null,
   "id": "b794900e-987a-45b8-8cd8-e96efd2820dd",
   "metadata": {},
   "outputs": [],
   "source": [
    "seq_class.config.id2label"
   ]
  },
  {
   "cell_type": "markdown",
   "id": "9a838aae-e18f-4e42-8b78-48b9ea6f4f30",
   "metadata": {
    "jp-MarkdownHeadingCollapsed": true
   },
   "source": [
    "### 2.3 Models"
   ]
  },
  {
   "cell_type": "code",
   "execution_count": null,
   "id": "92358177-a71b-4637-99b0-36dc1309c25b",
   "metadata": {},
   "outputs": [],
   "source": [
    "from transformers import BertConfig, BertTokenizer, BertModel"
   ]
  },
  {
   "cell_type": "code",
   "execution_count": null,
   "id": "54cd8c65-1e86-4008-8c1a-53453be10ee3",
   "metadata": {},
   "outputs": [],
   "source": [
    "# Building the config\n",
    "config = BertConfig()\n",
    "\n",
    "# Building the model from the config\n",
    "model = BertModel(config)"
   ]
  },
  {
   "cell_type": "code",
   "execution_count": null,
   "id": "efd99675-c4a7-4f6f-9f21-5692818da340",
   "metadata": {},
   "outputs": [],
   "source": [
    "config"
   ]
  },
  {
   "cell_type": "code",
   "execution_count": null,
   "id": "feb1ca19-0c55-47c7-b270-e5917e1e8a73",
   "metadata": {},
   "outputs": [],
   "source": [
    "name_params = []\n",
    "for n, p in model.named_parameters():\n",
    "    name_params.append([n, p.numel()])"
   ]
  },
  {
   "cell_type": "code",
   "execution_count": null,
   "id": "9f260810-2339-4063-b661-adc5ec014969",
   "metadata": {},
   "outputs": [],
   "source": [
    "df = pd.DataFrame(name_params, columns=['names', 'parameters'])"
   ]
  },
  {
   "cell_type": "code",
   "execution_count": null,
   "id": "661b8651-9948-43ff-a769-11008a57cb0a",
   "metadata": {},
   "outputs": [],
   "source": [
    "df['parameters'].sum()"
   ]
  },
  {
   "cell_type": "code",
   "execution_count": null,
   "id": "0852f284-3bb9-4c8d-9ff6-01bfce6b43ad",
   "metadata": {},
   "outputs": [],
   "source": [
    "bert_tokenizer = BertTokenizer.from_pretrained('bert-base-cased')"
   ]
  },
  {
   "cell_type": "code",
   "execution_count": null,
   "id": "e0fab83e-fa72-4686-94b4-ff5184ea7108",
   "metadata": {},
   "outputs": [],
   "source": [
    "bert_model = BertModel.from_pretrained('bert-base-cased')"
   ]
  },
  {
   "cell_type": "code",
   "execution_count": null,
   "id": "286bb7af-0102-4647-905c-3b176a33e99b",
   "metadata": {},
   "outputs": [],
   "source": [
    "name_params = []\n",
    "for n, p in bert_model.named_parameters():\n",
    "    name_params.append([n, p.numel()])"
   ]
  },
  {
   "cell_type": "code",
   "execution_count": null,
   "id": "de5440a6-27da-42f1-884c-1163e0550392",
   "metadata": {},
   "outputs": [],
   "source": [
    "df = pd.DataFrame(name_params, columns=['names', 'parameters'])"
   ]
  },
  {
   "cell_type": "code",
   "execution_count": null,
   "id": "95d453fd-7aa9-4aa1-9e47-5b493ddc7875",
   "metadata": {},
   "outputs": [],
   "source": [
    "df['parameters'].sum()"
   ]
  },
  {
   "cell_type": "code",
   "execution_count": null,
   "id": "026adff2-0c69-4401-951b-b4d7b6c3b070",
   "metadata": {},
   "outputs": [],
   "source": [
    "bert_model.to(device);"
   ]
  },
  {
   "cell_type": "code",
   "execution_count": null,
   "id": "33a79e71-6463-4e39-a6d9-7a9088646336",
   "metadata": {},
   "outputs": [],
   "source": [
    "raw_inputs = [\n",
    "    \"I've been waiting for a HuggingFace course my whole life.\",\n",
    "    \"I hate this so much!\",\n",
    "]\n",
    "inputs_bert = bert_tokenizer(raw_inputs, padding=True, truncation=True, return_tensors=\"pt\").to(device)"
   ]
  },
  {
   "cell_type": "code",
   "execution_count": null,
   "id": "e7377200-2770-4d6a-9ff2-1ef642b29a66",
   "metadata": {},
   "outputs": [],
   "source": [
    "inputs['input_ids'].shape"
   ]
  },
  {
   "cell_type": "code",
   "execution_count": null,
   "id": "48a05b49-a082-48c4-802f-69c466be1d99",
   "metadata": {},
   "outputs": [],
   "source": [
    "inputs_bert['input_ids'].shape"
   ]
  },
  {
   "cell_type": "code",
   "execution_count": null,
   "id": "51907b65-2ed1-4ed6-8c47-ee53fdbec407",
   "metadata": {},
   "outputs": [],
   "source": [
    "outputs = bert_model(**inputs_bert)"
   ]
  },
  {
   "cell_type": "code",
   "execution_count": null,
   "id": "8216bef5-5905-4849-90b5-3ea1fbb4881c",
   "metadata": {},
   "outputs": [],
   "source": [
    "outputs.last_hidden_state.shape"
   ]
  },
  {
   "cell_type": "code",
   "execution_count": null,
   "id": "c6f445a4-5c39-4957-bbec-b1d2387c76de",
   "metadata": {},
   "outputs": [],
   "source": [
    "#bert.save_pretrained('test')"
   ]
  },
  {
   "cell_type": "markdown",
   "id": "6b69dac9-e9d3-4a9d-b5fe-2ab1108fafa4",
   "metadata": {},
   "source": [
    "### 2.4 Tokenizers"
   ]
  },
  {
   "cell_type": "code",
   "execution_count": null,
   "id": "791fcb4d-fdfe-4dd7-b30e-0a82add3ceb3",
   "metadata": {},
   "outputs": [],
   "source": [
    "from transformers import BertTokenizer"
   ]
  },
  {
   "cell_type": "code",
   "execution_count": null,
   "id": "27c0f4b1-bc99-4813-8254-c202401219f5",
   "metadata": {},
   "outputs": [],
   "source": [
    "bert_tokenizer = BertTokenizer.from_pretrained('bert-base-cased')"
   ]
  },
  {
   "cell_type": "code",
   "execution_count": null,
   "id": "0ef98cc1-9005-4a47-bf67-eb84b0a1a706",
   "metadata": {},
   "outputs": [],
   "source": [
    "sentence = 'Using a Transformer network is simple'"
   ]
  },
  {
   "cell_type": "code",
   "execution_count": null,
   "id": "34fd7a6b-02b8-415e-9b60-f8faec163665",
   "metadata": {},
   "outputs": [],
   "source": [
    "inputs = bert_tokenizer(sentence)"
   ]
  },
  {
   "cell_type": "code",
   "execution_count": null,
   "id": "6d291c57-2a3e-46a1-838a-023ffe752698",
   "metadata": {},
   "outputs": [],
   "source": [
    "inputs"
   ]
  },
  {
   "cell_type": "code",
   "execution_count": null,
   "id": "f2784389-5d72-4b54-9ed5-c49a0ef2d8b4",
   "metadata": {},
   "outputs": [],
   "source": [
    "#bert_tokenizer.save_pretrained('test')"
   ]
  },
  {
   "cell_type": "code",
   "execution_count": null,
   "id": "9ca49c90-b339-4500-8e51-25a8b9786766",
   "metadata": {},
   "outputs": [],
   "source": [
    "vocab = bert_tokenizer.vocab"
   ]
  },
  {
   "cell_type": "code",
   "execution_count": null,
   "id": "501486ce-6240-4ceb-8b59-c0c678f4e2ce",
   "metadata": {},
   "outputs": [],
   "source": [
    "vocab_sort = np.sort(list(vocab.keys()))"
   ]
  },
  {
   "cell_type": "code",
   "execution_count": null,
   "id": "8a07ccf4-e05f-4c4d-a399-64f4ad2719a7",
   "metadata": {},
   "outputs": [],
   "source": [
    "vocab_sort.shape"
   ]
  },
  {
   "cell_type": "code",
   "execution_count": null,
   "id": "69183765-2f70-4996-99c6-0f0c35ca628e",
   "metadata": {},
   "outputs": [],
   "source": [
    "vocab_lower = np.unique(np.char.lower(vocab_sort[7245:-918]))"
   ]
  },
  {
   "cell_type": "code",
   "execution_count": null,
   "id": "ba3847e8-745d-4720-84e8-1a6b05f1e991",
   "metadata": {},
   "outputs": [],
   "source": [
    "vocab_lower.shape"
   ]
  },
  {
   "cell_type": "code",
   "execution_count": null,
   "id": "be8b0e18-2d7a-40b8-8727-8e6f62dc07eb",
   "metadata": {},
   "outputs": [],
   "source": [
    "sentence = 'Using a Transformer network is simple'"
   ]
  },
  {
   "cell_type": "code",
   "execution_count": null,
   "id": "f13addff-9357-4924-a2f1-4f7304d1546e",
   "metadata": {},
   "outputs": [],
   "source": [
    "tokens = bert_tokenizer.tokenize(sentence)"
   ]
  },
  {
   "cell_type": "code",
   "execution_count": null,
   "id": "85234649-6bd9-46b1-9e7d-ed68d223bb11",
   "metadata": {},
   "outputs": [],
   "source": [
    "tokens"
   ]
  },
  {
   "cell_type": "code",
   "execution_count": null,
   "id": "a2e252f0-4981-4194-abc1-d650046faffb",
   "metadata": {},
   "outputs": [],
   "source": [
    "ids = bert_tokenizer.convert_tokens_to_ids(tokens)"
   ]
  },
  {
   "cell_type": "code",
   "execution_count": null,
   "id": "b284a318-a4de-420e-b42d-07c6fcfe7232",
   "metadata": {},
   "outputs": [],
   "source": [
    "ids"
   ]
  },
  {
   "cell_type": "code",
   "execution_count": null,
   "id": "9a2f4823-8ecd-4bf7-bad3-b33911dfc689",
   "metadata": {},
   "outputs": [],
   "source": [
    "decoded_string = bert_tokenizer.decode(ids)"
   ]
  },
  {
   "cell_type": "code",
   "execution_count": null,
   "id": "e908fb92-f267-49fd-a66a-e249671ee30f",
   "metadata": {},
   "outputs": [],
   "source": [
    "decoded_string"
   ]
  },
  {
   "cell_type": "markdown",
   "id": "bb17fcb5-ec6c-4f80-be4d-1b84bde3533c",
   "metadata": {
    "jp-MarkdownHeadingCollapsed": true
   },
   "source": [
    "### 2.5 Handling multiple sequences"
   ]
  },
  {
   "cell_type": "code",
   "execution_count": null,
   "id": "033b67bf-d128-4cf6-9e8b-49d56098ee84",
   "metadata": {},
   "outputs": [],
   "source": [
    "import torch\n",
    "from transformers import AutoTokenizer, AutoModelForSequenceClassification"
   ]
  },
  {
   "cell_type": "code",
   "execution_count": null,
   "id": "48833a74-69d5-4028-beed-a20ef2941363",
   "metadata": {},
   "outputs": [],
   "source": [
    "checkpoint = 'distilbert-base-uncased-finetuned-sst-2-english'\n",
    "tokenizer = AutoTokenizer.from_pretrained(checkpoint)\n",
    "model = AutoModelForSequenceClassification.from_pretrained(checkpoint)"
   ]
  },
  {
   "cell_type": "code",
   "execution_count": null,
   "id": "56c68f4b-3857-4de9-a9c6-315c20ea9f17",
   "metadata": {},
   "outputs": [],
   "source": [
    "model.to(device);"
   ]
  },
  {
   "cell_type": "code",
   "execution_count": null,
   "id": "bec44ccd-0507-4428-8020-19e16c65a686",
   "metadata": {},
   "outputs": [],
   "source": [
    "sequence = \"I've been waiting for a HuggingFace course my whole life.\""
   ]
  },
  {
   "cell_type": "code",
   "execution_count": null,
   "id": "7cf5a92d-cd32-4f6a-903c-240b0560da46",
   "metadata": {},
   "outputs": [],
   "source": [
    "tokens = tokenizer.tokenize(sequence)"
   ]
  },
  {
   "cell_type": "code",
   "execution_count": null,
   "id": "9d9ac493-3e64-4191-a19d-1b6c3b88a57f",
   "metadata": {},
   "outputs": [],
   "source": [
    "ids = tokenizer.convert_tokens_to_ids(tokens)"
   ]
  },
  {
   "cell_type": "code",
   "execution_count": null,
   "id": "8f2a3ea3-12fa-4fd4-8408-e0e6e5f9754b",
   "metadata": {},
   "outputs": [],
   "source": [
    "input_ids = torch.tensor([ids]).to(device)"
   ]
  },
  {
   "cell_type": "code",
   "execution_count": null,
   "id": "e37e0f32-4243-4bd8-ab6b-b55183f00610",
   "metadata": {},
   "outputs": [],
   "source": [
    "input_ids"
   ]
  },
  {
   "cell_type": "code",
   "execution_count": null,
   "id": "a6a614f7-5a47-4401-9b28-aeeaad1f6238",
   "metadata": {},
   "outputs": [],
   "source": [
    "outputs = model(input_ids)"
   ]
  },
  {
   "cell_type": "code",
   "execution_count": null,
   "id": "d15bab0d-515f-499b-91ad-0b365afb5d4f",
   "metadata": {},
   "outputs": [],
   "source": [
    "outputs.logits"
   ]
  },
  {
   "cell_type": "code",
   "execution_count": null,
   "id": "8055fafd-62dc-4f49-8aaf-475f92e7cd8a",
   "metadata": {},
   "outputs": [],
   "source": [
    "inputs = tokenizer(sequence, return_tensors='pt').to(device)"
   ]
  },
  {
   "cell_type": "code",
   "execution_count": null,
   "id": "8c189a80-add3-4426-aa8a-a90729500503",
   "metadata": {},
   "outputs": [],
   "source": [
    "outputs = model(**inputs)"
   ]
  },
  {
   "cell_type": "code",
   "execution_count": null,
   "id": "c4000752-0ed4-4864-acf6-87fcae23e7b9",
   "metadata": {},
   "outputs": [],
   "source": [
    "outputs.logits"
   ]
  },
  {
   "cell_type": "code",
   "execution_count": null,
   "id": "8a039274-0765-408a-9e17-011625498e12",
   "metadata": {},
   "outputs": [],
   "source": [
    "model(torch.cat([input_ids, input_ids], dim=0)).logits"
   ]
  },
  {
   "cell_type": "code",
   "execution_count": null,
   "id": "4fa79319-a8a8-48aa-a30a-07894b6abd4f",
   "metadata": {},
   "outputs": [],
   "source": [
    "tokenizer.pad_token_id, tokenizer.pad_token"
   ]
  },
  {
   "cell_type": "code",
   "execution_count": null,
   "id": "bb95c32d-c762-4ed0-a98d-fb406eecbee8",
   "metadata": {},
   "outputs": [],
   "source": [
    "seq1 = [[200, 200, 200]]\n",
    "seq2 = [[200, 200]]\n",
    "batched_ids = [\n",
    "    [200, 200, 200],\n",
    "    [200, 200, tokenizer.pad_token_id],\n",
    "]"
   ]
  },
  {
   "cell_type": "code",
   "execution_count": null,
   "id": "ebb6a466-c57f-434d-b79a-c88bf7b962f4",
   "metadata": {},
   "outputs": [],
   "source": [
    "for seq in [seq1, seq2, batched_ids]:\n",
    "    print (model(torch.tensor(seq).to(device)).logits)"
   ]
  },
  {
   "cell_type": "code",
   "execution_count": null,
   "id": "9bf529bf-1065-44c5-b72d-95d120267340",
   "metadata": {},
   "outputs": [],
   "source": [
    "attention_mask = [\n",
    "    [1, 1, 1],\n",
    "    [1, 1, 0]\n",
    "]"
   ]
  },
  {
   "cell_type": "code",
   "execution_count": null,
   "id": "2546bf66-26a7-4fea-83cd-aa02e1a57ac3",
   "metadata": {},
   "outputs": [],
   "source": [
    "(model(torch.tensor(batched_ids).to(device), attention_mask=torch.tensor(attention_mask).to(device)).logits)"
   ]
  },
  {
   "cell_type": "code",
   "execution_count": null,
   "id": "883c233c-5a81-4897-ab90-94092fa8cb48",
   "metadata": {},
   "outputs": [],
   "source": [
    "tokenizer.model_max_length"
   ]
  },
  {
   "cell_type": "markdown",
   "id": "d6419999-5aa4-4661-bc76-31642fac0e00",
   "metadata": {
    "jp-MarkdownHeadingCollapsed": true
   },
   "source": [
    "### 2.6 Putting it all together"
   ]
  },
  {
   "cell_type": "code",
   "execution_count": null,
   "id": "8632ea8b-37e8-4a18-8569-53d7ce119fe7",
   "metadata": {},
   "outputs": [],
   "source": [
    "from transformers import AutoTokenizer, AutoModel"
   ]
  },
  {
   "cell_type": "code",
   "execution_count": null,
   "id": "483b268c-90b3-446b-b8fe-6c8c44ed3615",
   "metadata": {},
   "outputs": [],
   "source": [
    "checkpoint = 'distilbert-base-uncased-finetuned-sst-2-english'\n",
    "tokenizer = AutoTokenizer.from_pretrained(checkpoint)\n",
    "model = AutoModel.from_pretrained(checkpoint)"
   ]
  },
  {
   "cell_type": "code",
   "execution_count": null,
   "id": "a8e4046f-2df2-43ff-b4f0-de840ba3c639",
   "metadata": {},
   "outputs": [],
   "source": [
    "model.to(device);"
   ]
  },
  {
   "cell_type": "code",
   "execution_count": null,
   "id": "3cc2c73f-2061-4d53-a2d0-947cd5bde446",
   "metadata": {},
   "outputs": [],
   "source": [
    "sequences = [\"I've been waiting for a HuggingFace course my whole life.\", \"So have I!\"]"
   ]
  },
  {
   "cell_type": "code",
   "execution_count": null,
   "id": "0a59d617-1bef-4238-a04e-e57f63ccc0ab",
   "metadata": {},
   "outputs": [],
   "source": [
    "# same as padding = True\n",
    "inputs1 = tokenizer(sequences, padding='longest', return_tensors='pt').to(device)"
   ]
  },
  {
   "cell_type": "code",
   "execution_count": null,
   "id": "4bfc3ed8-5de2-41c6-8fcc-5a789fadd76a",
   "metadata": {},
   "outputs": [],
   "source": [
    "inputs1['input_ids'].shape"
   ]
  },
  {
   "cell_type": "code",
   "execution_count": null,
   "id": "f12d29e9-8464-4f56-8247-d5982568935d",
   "metadata": {},
   "outputs": [],
   "source": [
    "inputs2 = tokenizer(sequences, padding='max_length', return_tensors='pt').to(device)"
   ]
  },
  {
   "cell_type": "code",
   "execution_count": null,
   "id": "22c8bf70-619b-4e4d-9529-8535b67607ba",
   "metadata": {},
   "outputs": [],
   "source": [
    "inputs2['input_ids'].shape"
   ]
  },
  {
   "cell_type": "code",
   "execution_count": null,
   "id": "8723af14-9338-413d-b889-8b7aa50d2ebe",
   "metadata": {},
   "outputs": [],
   "source": [
    "# pad sequences up to a specified max length\n",
    "inputs3 = tokenizer(sequences, padding='max_length', max_length=8)"
   ]
  },
  {
   "cell_type": "code",
   "execution_count": null,
   "id": "eb311c19-29c3-4ed9-80c9-65d9ecc850bc",
   "metadata": {},
   "outputs": [],
   "source": [
    "# first sequence: the number of tokens is 16 so 0 padding are added to be 16\n",
    "# second sequence: the number of tokens is 6 so 2 padding are added to be 8\n",
    "len(inputs3['input_ids'][0]), len(inputs3['input_ids'][1])"
   ]
  },
  {
   "cell_type": "code",
   "execution_count": null,
   "id": "8957a343-0085-4c09-87a6-5f45d17b4c34",
   "metadata": {},
   "outputs": [],
   "source": [
    "inputs4 = tokenizer(sequences, truncation=True)"
   ]
  },
  {
   "cell_type": "code",
   "execution_count": null,
   "id": "1aa6c7af-9dbf-408e-80ba-73e474b0d963",
   "metadata": {},
   "outputs": [],
   "source": [
    "len(inputs4['input_ids'][0]), len(inputs4['input_ids'][1])"
   ]
  },
  {
   "cell_type": "code",
   "execution_count": null,
   "id": "b7f5cc1e-9ab5-440e-9226-b0d45f81b704",
   "metadata": {},
   "outputs": [],
   "source": [
    "inputs5 = tokenizer(sequences, truncation=True, max_length=8)"
   ]
  },
  {
   "cell_type": "code",
   "execution_count": null,
   "id": "091910a9-6a3c-421d-b209-c0d23385b385",
   "metadata": {},
   "outputs": [],
   "source": [
    "# first sequence: the number of tokens is 16 and the max is 8 so the everything after 7 was truncated and an end token was added at the end\n",
    "# second sequence: the number of tokens is 6 and the max is 8 so nothing was truncated\n",
    "len(inputs5['input_ids'][0]), len(inputs5['input_ids'][1])"
   ]
  },
  {
   "cell_type": "code",
   "execution_count": null,
   "id": "dc0b3d69-342b-42da-bee5-cb821edbbfbf",
   "metadata": {},
   "outputs": [],
   "source": [
    "inputs6 = tokenizer(sequences, padding=True, truncation=True, return_tensors='pt')"
   ]
  },
  {
   "cell_type": "code",
   "execution_count": null,
   "id": "ab36ef19-3c75-4527-90f9-2e43a83d6e09",
   "metadata": {},
   "outputs": [],
   "source": [
    "inputs7 = tokenizer(sequences, padding=True, truncation=True, return_tensors='tf')"
   ]
  },
  {
   "cell_type": "code",
   "execution_count": null,
   "id": "5e7c0f6f-5844-47b7-9b72-c53ca2fd72f4",
   "metadata": {},
   "outputs": [],
   "source": [
    "inputs8 = tokenizer(sequences, padding=True, truncation=True, return_tensors='np')"
   ]
  },
  {
   "cell_type": "code",
   "execution_count": null,
   "id": "3dcd0898-03a7-4799-846c-4b6050e59fd8",
   "metadata": {},
   "outputs": [],
   "source": [
    "inputs6['input_ids'].dtype, inputs7['input_ids'].dtype, inputs8['input_ids'].dtype"
   ]
  },
  {
   "cell_type": "code",
   "execution_count": null,
   "id": "f22bb7b6-c3a8-4119-86b8-eb1af87182b0",
   "metadata": {},
   "outputs": [],
   "source": [
    "sequence = sequences[0]"
   ]
  },
  {
   "cell_type": "code",
   "execution_count": null,
   "id": "1c376c6e-8a3d-4e1d-bd45-1afe183f83f9",
   "metadata": {},
   "outputs": [],
   "source": [
    "tokens = tokenizer.tokenize(sequence)\n",
    "ids = tokenizer.convert_tokens_to_ids(tokens)"
   ]
  },
  {
   "cell_type": "code",
   "execution_count": null,
   "id": "3492812b-6805-4c16-8d51-3540008609b7",
   "metadata": {},
   "outputs": [],
   "source": [
    "# token 101 [CLS] and 102 [SEP] are used to begin and end a sequence\n",
    "# not all tokenizers have special tokens\n",
    "inputs8['input_ids'][0], np.array(ids)"
   ]
  },
  {
   "cell_type": "code",
   "execution_count": null,
   "id": "45dac9a5-97ea-408d-b6e9-ddb3ef283449",
   "metadata": {},
   "outputs": [],
   "source": [
    "tokenizer.decode(inputs8['input_ids'][0]), tokenizer.decode(ids)"
   ]
  },
  {
   "cell_type": "code",
   "execution_count": null,
   "id": "b8c716af-2dc3-4542-86f7-c8ad6074b301",
   "metadata": {},
   "outputs": [],
   "source": []
  }
 ],
 "metadata": {
  "kernelspec": {
   "display_name": "Python 3 (ipykernel)",
   "language": "python",
   "name": "python3"
  },
  "language_info": {
   "codemirror_mode": {
    "name": "ipython",
    "version": 3
   },
   "file_extension": ".py",
   "mimetype": "text/x-python",
   "name": "python",
   "nbconvert_exporter": "python",
   "pygments_lexer": "ipython3",
   "version": "3.11.8"
  }
 },
 "nbformat": 4,
 "nbformat_minor": 5
}
