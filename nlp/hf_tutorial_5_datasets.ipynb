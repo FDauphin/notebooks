{
 "cells": [
  {
   "cell_type": "code",
   "execution_count": null,
   "id": "7eccedc9-09d5-47ad-8562-74f2b2c2143b",
   "metadata": {},
   "outputs": [],
   "source": [
    "from transformers import pipeline"
   ]
  },
  {
   "cell_type": "code",
   "execution_count": null,
   "id": "713d55bf-4479-45e8-bce0-0afbf4b8fa20",
   "metadata": {},
   "outputs": [],
   "source": [
    "import numpy as np\n",
    "import matplotlib.pyplot as plt\n",
    "import pandas as pd\n",
    "import scipy\n",
    "import tqdm"
   ]
  },
  {
   "cell_type": "code",
   "execution_count": null,
   "id": "6ef4ec07-958d-4730-8fd2-04b4c8c5673c",
   "metadata": {},
   "outputs": [],
   "source": [
    "device = 'mps'"
   ]
  },
  {
   "cell_type": "code",
   "execution_count": null,
   "id": "65284257-852e-4715-aad0-71088cf95ab5",
   "metadata": {},
   "outputs": [],
   "source": [
    "def batch_encoding_to_device(batch):\n",
    "    return {k: v.to(device) for k, v in batch.items()}"
   ]
  },
  {
   "cell_type": "markdown",
   "id": "9a09ed32-ec83-4149-8e6d-744d5a5c4b50",
   "metadata": {},
   "source": [
    "## 5. Datasets"
   ]
  },
  {
   "cell_type": "markdown",
   "id": "d4aa9c35-2b65-4e3c-a06a-2b762e284b1a",
   "metadata": {
    "jp-MarkdownHeadingCollapsed": true
   },
   "source": [
    "### 5.1 What if my dataset isn't on the Hub"
   ]
  },
  {
   "cell_type": "code",
   "execution_count": null,
   "id": "133af44b-278c-453b-bbdc-a678a16f476b",
   "metadata": {},
   "outputs": [],
   "source": [
    "from datasets import load_dataset"
   ]
  },
  {
   "cell_type": "code",
   "execution_count": null,
   "id": "71371886-c6c7-4f4c-920d-b288672b38a6",
   "metadata": {},
   "outputs": [],
   "source": [
    "squad_it_dataset = load_dataset('json', data_files='data/SQuAD_it-train.json', field='data')"
   ]
  },
  {
   "cell_type": "code",
   "execution_count": null,
   "id": "48e4cc5e-5f3a-4c6f-88ee-bd61edd66091",
   "metadata": {},
   "outputs": [],
   "source": [
    "squad_it_dataset"
   ]
  },
  {
   "cell_type": "code",
   "execution_count": null,
   "id": "50c136c7-662b-4b69-be43-256b3bff9021",
   "metadata": {},
   "outputs": [],
   "source": [
    "squad_it_dataset['train'][0]['paragraphs'][0]"
   ]
  },
  {
   "cell_type": "code",
   "execution_count": null,
   "id": "112e768b-00dc-43cb-b8dd-d40089a4dd45",
   "metadata": {},
   "outputs": [],
   "source": [
    "data_files = {'train': 'data/SQuAD_it-train.json', 'test': 'data/SQuAD_it-test.json'}"
   ]
  },
  {
   "cell_type": "code",
   "execution_count": null,
   "id": "63069595-0a0d-4864-bbf9-982e2815329d",
   "metadata": {},
   "outputs": [],
   "source": [
    "squad_it_dataset = load_dataset('json', data_files=data_files, field='data')"
   ]
  },
  {
   "cell_type": "code",
   "execution_count": null,
   "id": "5b04f737-26bd-46a2-8d36-d6b03b764c0d",
   "metadata": {},
   "outputs": [],
   "source": [
    "squad_it_dataset"
   ]
  },
  {
   "cell_type": "code",
   "execution_count": null,
   "id": "b24b21b3-d8fb-4b58-94bd-f306ce2bfe59",
   "metadata": {},
   "outputs": [],
   "source": [
    "# Automatically unzip\n",
    "#data_files = {\"train\": \"data/SQuAD_it-train.json.gz\", \"test\": \"data/SQuAD_it-test.json.gz\"}\n",
    "#squad_it_dataset = load_dataset(\"json\", data_files=data_files, field=\"data\")"
   ]
  },
  {
   "cell_type": "code",
   "execution_count": null,
   "id": "7b0c818a-c5bc-420e-8959-1afa995df9bf",
   "metadata": {},
   "outputs": [],
   "source": [
    "url = \"https://github.com/crux82/squad-it/raw/master/\"\n",
    "data_files = {\n",
    "    \"train\": url + \"SQuAD_it-train.json.gz\",\n",
    "    \"test\": url + \"SQuAD_it-test.json.gz\",\n",
    "}\n",
    "squad_it_dataset = load_dataset(\"json\", data_files=data_files, field=\"data\")"
   ]
  },
  {
   "cell_type": "code",
   "execution_count": null,
   "id": "9aaee643-2857-43b3-bd16-f5d98134cd94",
   "metadata": {},
   "outputs": [],
   "source": [
    "squad_it_dataset"
   ]
  },
  {
   "cell_type": "markdown",
   "id": "740a7c12-c093-41f7-a554-cb8cb0e7d5b4",
   "metadata": {
    "jp-MarkdownHeadingCollapsed": true
   },
   "source": [
    "### 5.2 Time to slice and dice"
   ]
  },
  {
   "cell_type": "code",
   "execution_count": null,
   "id": "cc27965b-90e4-416a-9402-2121ff4b5038",
   "metadata": {},
   "outputs": [],
   "source": [
    "from datasets import load_dataset"
   ]
  },
  {
   "cell_type": "code",
   "execution_count": null,
   "id": "0226baaf-0fcd-4d6f-90b6-21ea5b41e8fb",
   "metadata": {},
   "outputs": [],
   "source": [
    "data_files = {'train': 'data/drugsComTrain_raw.tsv', 'test': 'data/drugsComTest_raw.tsv'}"
   ]
  },
  {
   "cell_type": "code",
   "execution_count": null,
   "id": "45035b2c-fbc3-46c5-914c-7fd276d5d50a",
   "metadata": {},
   "outputs": [],
   "source": [
    "drug_dataset = load_dataset('csv', data_files=data_files, delimiter='\\t')"
   ]
  },
  {
   "cell_type": "code",
   "execution_count": null,
   "id": "911a92f2-6041-4e31-8d99-08519d2e70ba",
   "metadata": {},
   "outputs": [],
   "source": [
    "drug_dataset"
   ]
  },
  {
   "cell_type": "code",
   "execution_count": null,
   "id": "fb94d42a-21bf-4d6b-a015-8d0aa67fe11a",
   "metadata": {},
   "outputs": [],
   "source": [
    "drug_sample = drug_dataset['train'].shuffle(seed=42).select(range(1000))"
   ]
  },
  {
   "cell_type": "code",
   "execution_count": null,
   "id": "1e0a78e6-2e91-4752-ba3f-811d612c66da",
   "metadata": {},
   "outputs": [],
   "source": [
    "drug_sample[:3]"
   ]
  },
  {
   "cell_type": "code",
   "execution_count": null,
   "id": "db4e12c7-69f4-4a9c-9a6f-b90619208d79",
   "metadata": {},
   "outputs": [],
   "source": [
    "for split in drug_dataset.keys():\n",
    "    assert len(drug_dataset[split]) == len(drug_dataset[split].unique('Unnamed: 0'))"
   ]
  },
  {
   "cell_type": "code",
   "execution_count": null,
   "id": "9a70f7fb-d839-484b-9818-4b7688656457",
   "metadata": {},
   "outputs": [],
   "source": [
    "drug_dataset = drug_dataset.rename_column(\n",
    "    original_column_name='Unnamed: 0', new_column_name='patient_id'\n",
    ")"
   ]
  },
  {
   "cell_type": "code",
   "execution_count": null,
   "id": "13d264b7-abc1-4104-aed6-02d047780a6b",
   "metadata": {},
   "outputs": [],
   "source": [
    "drug_dataset"
   ]
  },
  {
   "cell_type": "code",
   "execution_count": null,
   "id": "f24b02ba-0268-4b0f-83b5-fc07d8b16351",
   "metadata": {},
   "outputs": [],
   "source": [
    "def lowercase_condition(example):\n",
    "    return {'condition': example['condition'].lower()}"
   ]
  },
  {
   "cell_type": "code",
   "execution_count": null,
   "id": "dbf67d34-1204-42a9-9e0f-dbf583804fcc",
   "metadata": {},
   "outputs": [],
   "source": [
    "# Raises attribute error since some samples are None\n",
    "#drug_dataset.map(lowercase_condition)"
   ]
  },
  {
   "cell_type": "code",
   "execution_count": null,
   "id": "26f76739-ad66-4fed-b24f-120e4e4d4d5b",
   "metadata": {},
   "outputs": [],
   "source": [
    "drug_dataset = drug_dataset.filter(lambda x: x['condition'] is not None)"
   ]
  },
  {
   "cell_type": "code",
   "execution_count": null,
   "id": "42eae3bb-8938-4c0c-8b94-761184326330",
   "metadata": {},
   "outputs": [],
   "source": [
    "drug_dataset = drug_dataset.map(lowercase_condition)"
   ]
  },
  {
   "cell_type": "code",
   "execution_count": null,
   "id": "ec4267fb-8dcf-49d8-9e97-98bf37183379",
   "metadata": {},
   "outputs": [],
   "source": [
    "drug_dataset['train']['condition'][:3]"
   ]
  },
  {
   "cell_type": "code",
   "execution_count": null,
   "id": "77a2f2cd-11b3-4447-9819-d5222373d684",
   "metadata": {},
   "outputs": [],
   "source": [
    "def compute_review_length(example):\n",
    "    return {'review_length': len(example['review'].split())}"
   ]
  },
  {
   "cell_type": "code",
   "execution_count": null,
   "id": "031669d5-adc4-4bec-84db-16251ff0b31f",
   "metadata": {},
   "outputs": [],
   "source": [
    "drug_dataset = drug_dataset.map(compute_review_length)"
   ]
  },
  {
   "cell_type": "code",
   "execution_count": null,
   "id": "d6af3f29-a994-496c-b74f-82719247ab35",
   "metadata": {},
   "outputs": [],
   "source": [
    "drug_dataset['train'][0]"
   ]
  },
  {
   "cell_type": "code",
   "execution_count": null,
   "id": "81ab90fa-adea-4184-8df7-ed21fef80166",
   "metadata": {},
   "outputs": [],
   "source": [
    "drug_dataset['train'].sort('review_length')[:3]"
   ]
  },
  {
   "cell_type": "code",
   "execution_count": null,
   "id": "8e922fcd-8bcc-4f85-a06f-2728d1175d61",
   "metadata": {},
   "outputs": [],
   "source": [
    "drug_dataset = drug_dataset.filter(lambda x: x['review_length'] > 30)"
   ]
  },
  {
   "cell_type": "code",
   "execution_count": null,
   "id": "b8636963-5148-48e8-bdec-620544e3a29e",
   "metadata": {},
   "outputs": [],
   "source": [
    "drug_dataset.num_rows"
   ]
  },
  {
   "cell_type": "code",
   "execution_count": null,
   "id": "96aa7ff6-e724-42c4-ae29-3dd5763ab11c",
   "metadata": {},
   "outputs": [],
   "source": [
    "sorted(drug_dataset['train']['review_length'])[-3:]"
   ]
  },
  {
   "cell_type": "code",
   "execution_count": null,
   "id": "bd9b3d0b-5d51-4ef0-b7ee-594694c7a9c8",
   "metadata": {},
   "outputs": [],
   "source": [
    "import html"
   ]
  },
  {
   "cell_type": "code",
   "execution_count": null,
   "id": "08b4e7ac-6e85-4fa8-b870-f68bf5854d63",
   "metadata": {},
   "outputs": [],
   "source": [
    "text = \"I&#039;m a transformer called BERT\""
   ]
  },
  {
   "cell_type": "code",
   "execution_count": null,
   "id": "7af33d56-8208-4cb1-bef4-df1b67e28100",
   "metadata": {},
   "outputs": [],
   "source": [
    "html.unescape(text)"
   ]
  },
  {
   "cell_type": "code",
   "execution_count": null,
   "id": "1a39169a-191e-49a2-a34b-d5e00af5a071",
   "metadata": {},
   "outputs": [],
   "source": [
    "drug_dataset = drug_dataset.map(lambda x: {'review': html.unescape(x['review'])})"
   ]
  },
  {
   "cell_type": "code",
   "execution_count": null,
   "id": "34803685-79e9-45a0-8573-bed6d4b7c675",
   "metadata": {},
   "outputs": [],
   "source": [
    "new_drug_dataset = drug_dataset.map(\n",
    "    lambda x: {'review': [html.unescape(o) for o in x['review']]}, batched=True\n",
    ")"
   ]
  },
  {
   "cell_type": "code",
   "execution_count": null,
   "id": "f621382c-3a1b-42cc-86ee-8963035e2acb",
   "metadata": {},
   "outputs": [],
   "source": [
    "from transformers import AutoTokenizer"
   ]
  },
  {
   "cell_type": "code",
   "execution_count": null,
   "id": "7fc93253-cd3e-4d4c-806b-92fe75582803",
   "metadata": {},
   "outputs": [],
   "source": [
    "tokenizer = AutoTokenizer.from_pretrained('bert-base-cased')"
   ]
  },
  {
   "cell_type": "code",
   "execution_count": null,
   "id": "56f268e5-d262-4049-a74e-d4db5a7a00cb",
   "metadata": {},
   "outputs": [],
   "source": [
    "def tokenize_function(examples):\n",
    "    return tokenizer(examples['review'], truncation=True)"
   ]
  },
  {
   "cell_type": "code",
   "execution_count": null,
   "id": "f96e5585-8313-4b7f-8794-23d7ba00ad16",
   "metadata": {},
   "outputs": [],
   "source": [
    "%time tokenized_data = drug_dataset.map(tokenize_function, batched=True)"
   ]
  },
  {
   "cell_type": "code",
   "execution_count": null,
   "id": "e7cf7445-5b38-47e2-94a7-72f2b1414fed",
   "metadata": {},
   "outputs": [],
   "source": [
    "%time tokenized_data = drug_dataset.map(tokenize_function, batched=False)"
   ]
  },
  {
   "cell_type": "code",
   "execution_count": null,
   "id": "637018b5-d36d-40f7-bada-667c698a611c",
   "metadata": {},
   "outputs": [],
   "source": [
    "%time tokenized_data = drug_dataset.map(tokenize_function, batched=True, num_proc=10)"
   ]
  },
  {
   "cell_type": "code",
   "execution_count": null,
   "id": "19d82069-32a8-465d-8834-ec1f1235dab6",
   "metadata": {},
   "outputs": [],
   "source": [
    "def tokenize_and_split(examples):\n",
    "    return tokenizer(examples['review'], truncation=True, max_length=128, return_overflowing_tokens=True)"
   ]
  },
  {
   "cell_type": "code",
   "execution_count": null,
   "id": "9ed84464-fa05-47c2-842e-7999c90092b0",
   "metadata": {},
   "outputs": [],
   "source": [
    "result = tokenize_and_split(drug_dataset['train'][0])"
   ]
  },
  {
   "cell_type": "code",
   "execution_count": null,
   "id": "b7ce119e-5954-4e0a-9f7f-67063f495a8d",
   "metadata": {},
   "outputs": [],
   "source": [
    "[len(inp) for inp in result['input_ids']]"
   ]
  },
  {
   "cell_type": "code",
   "execution_count": null,
   "id": "bc1be42e-b973-4c76-adf3-47813c8b5af5",
   "metadata": {},
   "outputs": [],
   "source": [
    "# Raises arrow invalid for mismatched column lengths \n",
    "#tokenized_dataset = drug_dataset.map(tokenize_and_split, batched=True)"
   ]
  },
  {
   "cell_type": "code",
   "execution_count": null,
   "id": "2c1504a5-203a-44c1-8c85-0e1fe4c71339",
   "metadata": {},
   "outputs": [],
   "source": [
    "tokenized_dataset = drug_dataset.map(\n",
    "    tokenize_and_split, batched=True, remove_columns=drug_dataset['train'].column_names\n",
    ")"
   ]
  },
  {
   "cell_type": "code",
   "execution_count": null,
   "id": "2ee72ed9-88c1-4cca-8243-14838659f462",
   "metadata": {},
   "outputs": [],
   "source": [
    "len(tokenized_dataset['train']), len(drug_dataset['train'])"
   ]
  },
  {
   "cell_type": "code",
   "execution_count": null,
   "id": "14913b43-4935-4ce4-ae12-c3f51827d7b0",
   "metadata": {},
   "outputs": [],
   "source": [
    "drug_dataset['train'].features"
   ]
  },
  {
   "cell_type": "code",
   "execution_count": null,
   "id": "a9e4bf35-77f7-4ae1-b480-29f00579b6cf",
   "metadata": {},
   "outputs": [],
   "source": [
    "tokenized_dataset['train'].features"
   ]
  },
  {
   "cell_type": "code",
   "execution_count": null,
   "id": "c0144f8f-74b4-4182-ac94-67120885e262",
   "metadata": {},
   "outputs": [],
   "source": [
    "def tokenize_and_split(examples):\n",
    "    result = tokenizer(\n",
    "        examples['review'],\n",
    "        truncation=True,\n",
    "        max_length=128,\n",
    "        return_overflowing_tokens=True,\n",
    "    )\n",
    "    # Extract mapping between new and old indices\n",
    "    sample_map = result.pop('overflow_to_sample_mapping')\n",
    "    for key, values in examples.items():\n",
    "        result[key] = [values[i] for i in sample_map]\n",
    "    return result"
   ]
  },
  {
   "cell_type": "code",
   "execution_count": null,
   "id": "4fcf7b99-6dac-4d0e-b6dd-597f2abde201",
   "metadata": {},
   "outputs": [],
   "source": [
    "tokenized_dataset = drug_dataset.map(tokenize_and_split, batched=True)"
   ]
  },
  {
   "cell_type": "code",
   "execution_count": null,
   "id": "0b0dd819-047a-4857-afd8-ec926ff682f6",
   "metadata": {},
   "outputs": [],
   "source": [
    "tokenized_dataset"
   ]
  },
  {
   "cell_type": "code",
   "execution_count": null,
   "id": "d3c12d04-c52a-4138-b5cb-bbd64db6228f",
   "metadata": {},
   "outputs": [],
   "source": [
    "print(tokenized_dataset['train'][:2])"
   ]
  },
  {
   "cell_type": "code",
   "execution_count": null,
   "id": "89937f32-3b52-49c6-88b2-26c5b3feacfa",
   "metadata": {},
   "outputs": [],
   "source": [
    "drug_dataset.set_format('pandas')"
   ]
  },
  {
   "cell_type": "code",
   "execution_count": null,
   "id": "3da23218-873e-4ea4-8e51-803f85ab7476",
   "metadata": {},
   "outputs": [],
   "source": [
    "drug_dataset['train'][:3]"
   ]
  },
  {
   "cell_type": "code",
   "execution_count": null,
   "id": "d116a4ef-6149-4141-9bb8-4a340c7053a8",
   "metadata": {},
   "outputs": [],
   "source": [
    "train_df = drug_dataset['train'][:]"
   ]
  },
  {
   "cell_type": "code",
   "execution_count": null,
   "id": "1ca6da74-7c0a-4dc3-af34-81c375ea63e2",
   "metadata": {},
   "outputs": [],
   "source": [
    "frequencies = (\n",
    "    train_df[\"condition\"]\n",
    "    .value_counts()\n",
    "    .to_frame()\n",
    "    .reset_index()\n",
    "    .rename(columns={\"index\": \"condition\", \"condition\": \"frequency\"})\n",
    ")"
   ]
  },
  {
   "cell_type": "code",
   "execution_count": null,
   "id": "b5708444-08ba-44c9-8a24-26d1e913a8bf",
   "metadata": {},
   "outputs": [],
   "source": [
    "frequencies.head()"
   ]
  },
  {
   "cell_type": "code",
   "execution_count": null,
   "id": "e4718905-68c9-4722-9d01-8fe05e9cd137",
   "metadata": {},
   "outputs": [],
   "source": [
    "from datasets import Dataset"
   ]
  },
  {
   "cell_type": "code",
   "execution_count": null,
   "id": "d3314364-1e61-4a86-98cc-5cd75a7b9eb5",
   "metadata": {},
   "outputs": [],
   "source": [
    "freq_dataset = Dataset.from_pandas(frequencies)"
   ]
  },
  {
   "cell_type": "code",
   "execution_count": null,
   "id": "793278b5-c055-474a-a19e-f462048b0e6f",
   "metadata": {},
   "outputs": [],
   "source": [
    "freq_dataset"
   ]
  },
  {
   "cell_type": "code",
   "execution_count": null,
   "id": "a1118538-e6d7-4491-8680-6343709faf82",
   "metadata": {},
   "outputs": [],
   "source": [
    "drug_mean_rating = (\n",
    "    train_df[['drugName', 'rating']]\n",
    "    .groupby(['drugName'])\n",
    "    .mean()\n",
    "    .sort_values(by='rating')\n",
    "    .reset_index()\n",
    "    .rename(columns={'rating':'mean rating'})\n",
    ")"
   ]
  },
  {
   "cell_type": "code",
   "execution_count": null,
   "id": "c7d73c37-82be-484a-9969-6d37f597e60a",
   "metadata": {},
   "outputs": [],
   "source": [
    "drug_mean_rating.tail()"
   ]
  },
  {
   "cell_type": "code",
   "execution_count": null,
   "id": "0f163694-fcea-43c2-a275-e8fe30376f5e",
   "metadata": {},
   "outputs": [],
   "source": [
    "drug_dataset.reset_format()"
   ]
  },
  {
   "cell_type": "code",
   "execution_count": null,
   "id": "9b4145d0-456f-43e7-9681-f6d323fe9b25",
   "metadata": {},
   "outputs": [],
   "source": [
    "drug_dataset['train'][:3]"
   ]
  },
  {
   "cell_type": "code",
   "execution_count": null,
   "id": "ebb35856-615d-4a23-8077-cc671ca49971",
   "metadata": {},
   "outputs": [],
   "source": [
    "drug_dataset_clean = drug_dataset['train'].train_test_split(train_size=0.8, seed=42)"
   ]
  },
  {
   "cell_type": "code",
   "execution_count": null,
   "id": "08f3723f-0fd2-486d-8429-7187487c5c57",
   "metadata": {},
   "outputs": [],
   "source": [
    "drug_dataset_clean['val'] = drug_dataset_clean.pop('test')"
   ]
  },
  {
   "cell_type": "code",
   "execution_count": null,
   "id": "be7f6dbe-2d37-4988-8fcb-20ba7d1d0f1f",
   "metadata": {},
   "outputs": [],
   "source": [
    "drug_dataset_clean['test'] = drug_dataset['test']"
   ]
  },
  {
   "cell_type": "code",
   "execution_count": null,
   "id": "881a6459-92c5-4c7a-ba64-3511e98bf214",
   "metadata": {},
   "outputs": [],
   "source": [
    "drug_dataset_clean"
   ]
  },
  {
   "cell_type": "code",
   "execution_count": null,
   "id": "f8de34c7-0f9c-46ec-858a-7600e47e50cf",
   "metadata": {},
   "outputs": [],
   "source": [
    "drug_dataset_clean.save_to_disk('data/drug-reviews')"
   ]
  },
  {
   "cell_type": "code",
   "execution_count": null,
   "id": "2b438632-62f0-4084-b2b4-f1c8ea5e220d",
   "metadata": {},
   "outputs": [],
   "source": [
    "from datasets import load_from_disk"
   ]
  },
  {
   "cell_type": "code",
   "execution_count": null,
   "id": "bf53d3ee-73d3-4927-be78-3b63a3c9492d",
   "metadata": {},
   "outputs": [],
   "source": [
    "drug_dataset_reloaded = load_from_disk('data/drug-reviews')"
   ]
  },
  {
   "cell_type": "code",
   "execution_count": null,
   "id": "ed92ca01-10fe-4570-bba8-8388d56daf69",
   "metadata": {},
   "outputs": [],
   "source": [
    "for split, dataset in drug_dataset_clean.items():\n",
    "    dataset.to_json(f'data/drug-reviews-{split}.jsonl')"
   ]
  },
  {
   "cell_type": "code",
   "execution_count": null,
   "id": "76fa4627-312b-46c9-a96d-df2ccf57a52b",
   "metadata": {},
   "outputs": [],
   "source": [
    "data_files = {\n",
    "    'train': 'data/drug-reviews-train.jsonl',\n",
    "    'val': 'data/drug-reviews-val.jsonl',\n",
    "    'test': 'data/drug-reviews-test.jsonl',\n",
    "}"
   ]
  },
  {
   "cell_type": "code",
   "execution_count": null,
   "id": "32f47082-0879-478a-9ae4-01ac964738b7",
   "metadata": {},
   "outputs": [],
   "source": [
    "drug_dataset_reloaded = load_dataset('json', data_files=data_files)"
   ]
  },
  {
   "cell_type": "code",
   "execution_count": null,
   "id": "29fdf674-853c-40ab-b092-e8de11b1c5df",
   "metadata": {},
   "outputs": [],
   "source": [
    "drug_dataset_reloaded"
   ]
  },
  {
   "cell_type": "markdown",
   "id": "2a61877a-b4c6-4574-a829-abfec1e58b93",
   "metadata": {
    "jp-MarkdownHeadingCollapsed": true
   },
   "source": [
    "### 5.3 Big data"
   ]
  },
  {
   "cell_type": "code",
   "execution_count": null,
   "id": "52df0f3c-e4e3-42f1-a5b0-0e08392d6255",
   "metadata": {},
   "outputs": [],
   "source": [
    "from datasets import load_dataset, DownloadConfig"
   ]
  },
  {
   "cell_type": "code",
   "execution_count": null,
   "id": "6ca76fc2-6391-4fcd-80c3-1450de1b8f4e",
   "metadata": {},
   "outputs": [],
   "source": [
    "data_files = \"https://huggingface.co/datasets/casinca/PUBMED_title_abstracts_2019_baseline/resolve/main/PUBMED_title_abstracts_2019_baseline.jsonl.zst\"\n",
    "pubmed_dataset = load_dataset(\n",
    "    \"json\",\n",
    "    data_files=data_files,\n",
    "    split=\"train\",\n",
    "    download_config=DownloadConfig(delete_extracted=True),  # (optional arg)using DownloadConfig to save HD space\n",
    ")"
   ]
  },
  {
   "cell_type": "code",
   "execution_count": null,
   "id": "d91daf7f-3906-4315-8f84-8e4e1e1dc78f",
   "metadata": {},
   "outputs": [],
   "source": [
    "pubmed_dataset"
   ]
  },
  {
   "cell_type": "code",
   "execution_count": null,
   "id": "11d6b414-5dbd-4929-8be1-2967073bfa3d",
   "metadata": {},
   "outputs": [],
   "source": [
    "print (pubmed_dataset[10000000]['text'])"
   ]
  },
  {
   "cell_type": "code",
   "execution_count": null,
   "id": "3de3147d-99ae-4ecb-997f-5323977c1f63",
   "metadata": {},
   "outputs": [],
   "source": [
    "import psutil"
   ]
  },
  {
   "cell_type": "code",
   "execution_count": null,
   "id": "80b66f30-bd78-4534-9ea5-6e0833fc5b57",
   "metadata": {},
   "outputs": [],
   "source": [
    "f'RAM used: {psutil.Process().memory_info().rss / 1024 ** 2 :.2f} MB'"
   ]
  },
  {
   "cell_type": "code",
   "execution_count": null,
   "id": "00be9a94-2306-4738-9a48-f872c4ede78d",
   "metadata": {},
   "outputs": [],
   "source": [
    "n_files = pubmed_dataset.dataset_size\n",
    "print (f'Number of files in dataset : {n_files}')\n",
    "size_gb = n_files / 1024 ** 3\n",
    "print (f'Dataset size (cache file) : {size_gb:.2f}')"
   ]
  },
  {
   "cell_type": "code",
   "execution_count": null,
   "id": "6cf3af33-9b15-4213-bf57-123beaf50655",
   "metadata": {},
   "outputs": [],
   "source": [
    "import timeit\n",
    "\n",
    "code_snippet = \"\"\"batch_size = 1000\n",
    "\n",
    "for idx in range(0, len(pubmed_dataset), batch_size):\n",
    "    _ = pubmed_dataset[idx:idx + batch_size]\n",
    "\"\"\"\n",
    "\n",
    "time = timeit.timeit(stmt=code_snippet, number=1, globals=globals())\n",
    "print(\n",
    "    f\"Iterated over {len(pubmed_dataset)} examples (about {size_gb:.1f} GB) in \"\n",
    "    f\"{time:.1f}s, i.e. {size_gb/time:.3f} GB/s\"\n",
    ")"
   ]
  },
  {
   "cell_type": "code",
   "execution_count": null,
   "id": "574a01fb-8f49-41b2-bd53-17644ee0ecf9",
   "metadata": {},
   "outputs": [],
   "source": [
    "pubmed_dataset_streamed = load_dataset(\n",
    "    \"json\",\n",
    "    data_files=data_files,\n",
    "    split=\"train\",\n",
    "    download_config=DownloadConfig(delete_extracted=True),  # (optional arg)using DownloadConfig to save HD space\n",
    "    streaming=True,\n",
    ")"
   ]
  },
  {
   "cell_type": "code",
   "execution_count": null,
   "id": "690404d1-ec76-4170-84c7-3534aee7ded5",
   "metadata": {},
   "outputs": [],
   "source": [
    "pubmed_dataset_streamed"
   ]
  },
  {
   "cell_type": "code",
   "execution_count": null,
   "id": "3d402d90-d672-4433-ad06-68735d2efaa5",
   "metadata": {},
   "outputs": [],
   "source": [
    "next(iter(pubmed_dataset_streamed))"
   ]
  },
  {
   "cell_type": "code",
   "execution_count": null,
   "id": "0d0d78b1-3fcf-4d8e-9982-b24863244738",
   "metadata": {},
   "outputs": [],
   "source": [
    "from transformers import AutoTokenizer"
   ]
  },
  {
   "cell_type": "code",
   "execution_count": null,
   "id": "539c5dd6-ace7-4b51-8a06-3549b71c0b00",
   "metadata": {},
   "outputs": [],
   "source": [
    "tokenizer = AutoTokenizer.from_pretrained('distilbert-base-uncased')"
   ]
  },
  {
   "cell_type": "code",
   "execution_count": null,
   "id": "971a2bbe-45e0-45e0-9971-10ad99b7d756",
   "metadata": {},
   "outputs": [],
   "source": [
    "tokenized_dataset = pubmed_dataset_streamed.map(lambda x: tokenizer(x['text']))"
   ]
  },
  {
   "cell_type": "code",
   "execution_count": null,
   "id": "a32e3909-4b16-4970-a540-46d15531913c",
   "metadata": {},
   "outputs": [],
   "source": [
    "tokenized_dataset"
   ]
  },
  {
   "cell_type": "code",
   "execution_count": null,
   "id": "1be011d7-f8fd-4cea-aeeb-d8aa79dabd14",
   "metadata": {},
   "outputs": [],
   "source": [
    "print(next(iter(tokenized_dataset)))"
   ]
  },
  {
   "cell_type": "code",
   "execution_count": null,
   "id": "68febded-42b0-464f-a2f1-ca3d391e68d7",
   "metadata": {},
   "outputs": [],
   "source": [
    "shuffled_dataset = pubmed_dataset_streamed.shuffle(buffer_size=10000, seed=42)"
   ]
  },
  {
   "cell_type": "code",
   "execution_count": null,
   "id": "e87794d1-6733-4882-aa72-43ee6d79598c",
   "metadata": {},
   "outputs": [],
   "source": [
    "print(next(iter(shuffled_dataset)))"
   ]
  },
  {
   "cell_type": "code",
   "execution_count": null,
   "id": "aaf73a0f-587b-4f45-9944-cc72c6dc6bdb",
   "metadata": {},
   "outputs": [],
   "source": [
    "dataset_head = pubmed_dataset_streamed.take(5)"
   ]
  },
  {
   "cell_type": "code",
   "execution_count": null,
   "id": "9a77e0f3-9f0c-4a35-8805-17a5e741859c",
   "metadata": {},
   "outputs": [],
   "source": [
    "list(dataset_head)"
   ]
  },
  {
   "cell_type": "code",
   "execution_count": null,
   "id": "82b25794-ac71-45c5-9800-9256d01c4202",
   "metadata": {},
   "outputs": [],
   "source": [
    "train_dataset = shuffled_dataset.skip(1000)\n",
    "val_dataset = shuffled_dataset.take(1000)"
   ]
  },
  {
   "cell_type": "code",
   "execution_count": null,
   "id": "cf0b4ecc-6f25-4037-a15f-aad5df7c8e51",
   "metadata": {},
   "outputs": [],
   "source": [
    "from itertools import islice\n",
    "from datasets import interleave_datasets"
   ]
  },
  {
   "cell_type": "code",
   "execution_count": null,
   "id": "9143f0d1-02f4-4abd-9fe5-e0650eafe7e4",
   "metadata": {},
   "outputs": [],
   "source": [
    "combined_dataset = interleave_datasets([val_dataset, val_dataset])"
   ]
  },
  {
   "cell_type": "code",
   "execution_count": null,
   "id": "cff4b315-dc2b-4e80-8563-c06fefe5d1b2",
   "metadata": {},
   "outputs": [],
   "source": [
    "list(islice(combined_dataset, 2))"
   ]
  },
  {
   "cell_type": "markdown",
   "id": "262abe24-885d-45b9-bad0-335f83df7fa9",
   "metadata": {
    "jp-MarkdownHeadingCollapsed": true
   },
   "source": [
    "### 5.4 Creating your own dataset"
   ]
  },
  {
   "cell_type": "code",
   "execution_count": null,
   "id": "6f43fab5-fdf7-42c0-aeb7-169acdce50af",
   "metadata": {},
   "outputs": [],
   "source": [
    "import requests"
   ]
  },
  {
   "cell_type": "code",
   "execution_count": null,
   "id": "31b34a9b-d595-4f28-bb93-1de496b0ff4a",
   "metadata": {},
   "outputs": [],
   "source": [
    "url = \"https://api.github.com/repos/huggingface/datasets/issues?page=1&per_page=1\"\n",
    "response = requests.get(url)"
   ]
  },
  {
   "cell_type": "code",
   "execution_count": null,
   "id": "d937bfdc-cf04-415d-8bf9-1c9ea2bbee4c",
   "metadata": {},
   "outputs": [],
   "source": [
    "response.status_code"
   ]
  },
  {
   "cell_type": "code",
   "execution_count": null,
   "id": "916ed2f4-1150-48e6-abf7-8f4a24fee701",
   "metadata": {},
   "outputs": [],
   "source": [
    "response.json()"
   ]
  },
  {
   "cell_type": "code",
   "execution_count": null,
   "id": "2f92c50e-14ce-4fb9-ba22-1135ecd43cad",
   "metadata": {},
   "outputs": [],
   "source": [
    "#github_token = 'create personal access token on github'\n",
    "#headers = {'Authorization': f'token {github_token}'}"
   ]
  },
  {
   "cell_type": "code",
   "execution_count": null,
   "id": "cf1620f7-a745-4528-aac4-370ec81bf62f",
   "metadata": {},
   "outputs": [],
   "source": [
    "import time\n",
    "import math\n",
    "from pathlib import Path\n",
    "\n",
    "def fetch_issues(\n",
    "    owner=\"huggingface\",\n",
    "    repo=\"datasets\",\n",
    "    num_issues=10_000,\n",
    "    rate_limit=5_000,\n",
    "    issues_path=Path(\".\"),\n",
    "):\n",
    "    if not issues_path.is_dir():\n",
    "        issues_path.mkdir(exist_ok=True)\n",
    "\n",
    "    batch = []\n",
    "    all_issues = []\n",
    "    per_page = 100  # Number of issues to return per page\n",
    "    num_pages = math.ceil(num_issues / per_page)\n",
    "    base_url = \"https://api.github.com/repos\"\n",
    "\n",
    "    for page in tqdm.tqdm(range(num_pages)):\n",
    "        # Query with state=all to get both open and closed issues\n",
    "        query = f\"issues?page={page}&per_page={per_page}&state=all\"\n",
    "        issues = requests.get(f\"{base_url}/{owner}/{repo}/{query}\", headers=headers)\n",
    "        batch.extend(issues.json())\n",
    "\n",
    "        if len(batch) > rate_limit and len(all_issues) < num_issues:\n",
    "            all_issues.extend(batch)\n",
    "            batch = []  # Flush batch for next time period\n",
    "            print(f\"Reached GitHub rate limit. Sleeping for one hour ...\")\n",
    "            time.sleep(60 * 60 + 1)\n",
    "\n",
    "    all_issues.extend(batch)\n",
    "    df = pd.DataFrame.from_records(all_issues)\n",
    "    df.to_json(f\"{issues_path}/{repo}-issues.jsonl\", orient=\"records\", lines=True)\n",
    "    print(\n",
    "        f\"Downloaded all the issues for {repo}! Dataset stored at {issues_path}/{repo}-issues.jsonl\"\n",
    "    )"
   ]
  },
  {
   "cell_type": "code",
   "execution_count": null,
   "id": "8325beb5-990b-4f82-b8c3-1ad3555b7025",
   "metadata": {},
   "outputs": [],
   "source": [
    "fetch_issues(num_issues=3000, issues_path=Path('data'))"
   ]
  },
  {
   "cell_type": "code",
   "execution_count": null,
   "id": "f553b25e-723c-41c8-ab2c-2ee48e642d7e",
   "metadata": {},
   "outputs": [],
   "source": [
    "from datasets import load_dataset"
   ]
  },
  {
   "cell_type": "code",
   "execution_count": null,
   "id": "a24e420c-4d56-4c8c-ba21-78bb903443d5",
   "metadata": {},
   "outputs": [],
   "source": [
    "issues_dataset = load_dataset(\"json\", data_files=\"data/datasets-issues.jsonl\", split=\"train\")"
   ]
  },
  {
   "cell_type": "code",
   "execution_count": null,
   "id": "998ee9e6-9dd9-49f2-9edb-f0d812b724df",
   "metadata": {},
   "outputs": [],
   "source": [
    "issues_dataset"
   ]
  },
  {
   "cell_type": "code",
   "execution_count": null,
   "id": "c0cf3b35-6daf-44c3-ac74-8509f6ddc853",
   "metadata": {},
   "outputs": [],
   "source": [
    "sample = issues_dataset.shuffle(seed=42).select(range(10))"
   ]
  },
  {
   "cell_type": "code",
   "execution_count": null,
   "id": "920fd08c-69ad-46c0-b3e7-15ae68cbdf08",
   "metadata": {},
   "outputs": [],
   "source": [
    "for url, pr in zip(sample['html_url'], sample['pull_request']):\n",
    "    print (f'>> URL: {url}')\n",
    "    print (f'>> PR: {pr}\\n')"
   ]
  },
  {
   "cell_type": "code",
   "execution_count": null,
   "id": "5263135f-2b60-4c7d-ba5a-b70333bbca45",
   "metadata": {},
   "outputs": [],
   "source": [
    "issues_dataset = issues_dataset.map(\n",
    "    lambda x: {'is_pull_request': x['pull_request'] is not None}\n",
    ")"
   ]
  },
  {
   "cell_type": "code",
   "execution_count": null,
   "id": "28f147de-4d14-4b30-a53a-d920c51ba02f",
   "metadata": {},
   "outputs": [],
   "source": [
    "issues_dataset['is_pull_request'][:6]"
   ]
  },
  {
   "cell_type": "code",
   "execution_count": null,
   "id": "14932900-fe3b-4065-aeb9-3b5cfd569445",
   "metadata": {},
   "outputs": [],
   "source": [
    "issues_dataset['html_url'][:6]"
   ]
  },
  {
   "cell_type": "code",
   "execution_count": null,
   "id": "b0131f21-b124-4ee7-99ab-72e2e136d377",
   "metadata": {},
   "outputs": [],
   "source": [
    "issues_dataset_df = issues_dataset.filter(lambda x: x['is_pull_request'])"
   ]
  },
  {
   "cell_type": "code",
   "execution_count": null,
   "id": "26af447e-d5d1-4f19-8187-aedf7d47d83c",
   "metadata": {},
   "outputs": [],
   "source": [
    "issues_dataset_df.set_format('pandas')"
   ]
  },
  {
   "cell_type": "code",
   "execution_count": null,
   "id": "dc68c286-0931-4421-8c03-87354e2f6330",
   "metadata": {},
   "outputs": [],
   "source": [
    "issues_dataset_df = issues_dataset_df[:]"
   ]
  },
  {
   "cell_type": "code",
   "execution_count": null,
   "id": "fc23e6e7-2531-4a52-8e68-b34bf88ee104",
   "metadata": {},
   "outputs": [],
   "source": [
    "(issues_dataset_df['closed_at'] - issues_dataset_df['created_at']).mean()"
   ]
  },
  {
   "cell_type": "code",
   "execution_count": null,
   "id": "4550bdf6-aa5c-4ecf-8395-f5c5536752ff",
   "metadata": {},
   "outputs": [],
   "source": [
    "issue_number = 2792\n",
    "url = f\"https://api.github.com/repos/huggingface/datasets/issues/{issue_number}/comments\"\n",
    "response = requests.get(url, headers=headers)\n",
    "response.json()"
   ]
  },
  {
   "cell_type": "code",
   "execution_count": null,
   "id": "8ef28870-b2b3-4047-885e-477b0b641a20",
   "metadata": {},
   "outputs": [],
   "source": [
    "def get_comments(issue_number):\n",
    "    url = f\"https://api.github.com/repos/huggingface/datasets/issues/{issue_number}/comments\"\n",
    "    response = requests.get(url, headers=headers)\n",
    "    return [r[\"body\"] for r in response.json()]"
   ]
  },
  {
   "cell_type": "code",
   "execution_count": null,
   "id": "205fbdde-4ec1-49d5-8d21-df78e095a69f",
   "metadata": {},
   "outputs": [],
   "source": [
    "get_comments(issue_number)"
   ]
  },
  {
   "cell_type": "code",
   "execution_count": null,
   "id": "9f84108b-9b3f-4473-b817-5cb8f012d925",
   "metadata": {},
   "outputs": [],
   "source": [
    "issues_with_comments_dataset = issues_dataset.map(\n",
    "    lambda x: {'comments': get_comments(x['number'])}\n",
    ")"
   ]
  },
  {
   "cell_type": "code",
   "execution_count": null,
   "id": "f1c1c70a-55e8-456f-8843-d2d00d6bb19b",
   "metadata": {},
   "outputs": [],
   "source": [
    "issues_with_comments_dataset.to_json('data/datasets-issues-comments.jsonl')"
   ]
  },
  {
   "cell_type": "markdown",
   "id": "ca84a448-36ad-4e62-b713-111e8aaa7b7f",
   "metadata": {
    "jp-MarkdownHeadingCollapsed": true
   },
   "source": [
    "### 5.5 Semantic search with FAISS"
   ]
  },
  {
   "cell_type": "code",
   "execution_count": null,
   "id": "24a67029-068c-40e4-afb7-65ae6951b2fb",
   "metadata": {},
   "outputs": [],
   "source": [
    "from datasets import load_dataset"
   ]
  },
  {
   "cell_type": "code",
   "execution_count": null,
   "id": "2f3fb219-9509-4c4d-a57d-d219638582d2",
   "metadata": {},
   "outputs": [],
   "source": [
    "# specify train so it returns a dataset instead of datasetdict\n",
    "#issues_dataset = load_dataset(\"json\", data_files=\"data/datasets-issues-comments.jsonl\", split=\"train\")"
   ]
  },
  {
   "cell_type": "code",
   "execution_count": null,
   "id": "2e09e389-d2b6-4cd9-8b56-736c26ec834b",
   "metadata": {},
   "outputs": [],
   "source": [
    "issues_dataset = load_dataset(\"lewtun/github-issues\", split=\"train\")"
   ]
  },
  {
   "cell_type": "code",
   "execution_count": null,
   "id": "7c728940-b6c2-44cb-8699-e51d36b56ab7",
   "metadata": {},
   "outputs": [],
   "source": [
    "issues_dataset"
   ]
  },
  {
   "cell_type": "code",
   "execution_count": null,
   "id": "bdd1fd09-f043-43da-8aa8-34b558d98438",
   "metadata": {},
   "outputs": [],
   "source": [
    "issues_dataset = issues_dataset.filter(\n",
    "    lambda x: (x['is_pull_request'] == False and len(x['comments']) > 0)\n",
    ")"
   ]
  },
  {
   "cell_type": "code",
   "execution_count": null,
   "id": "737be79a-8ef1-43df-8b62-ec0f213ca7bd",
   "metadata": {},
   "outputs": [],
   "source": [
    "issues_dataset"
   ]
  },
  {
   "cell_type": "code",
   "execution_count": null,
   "id": "4eafe8b9-489c-4e3f-8f25-d2610eed2c4a",
   "metadata": {},
   "outputs": [],
   "source": [
    "columns = issues_dataset.column_names"
   ]
  },
  {
   "cell_type": "code",
   "execution_count": null,
   "id": "79d6d476-5917-4763-90fd-c6d34b64bb45",
   "metadata": {},
   "outputs": [],
   "source": [
    "columns_to_keep = ['title', 'body', 'html_url', 'comments']"
   ]
  },
  {
   "cell_type": "code",
   "execution_count": null,
   "id": "cab7a6b3-f41a-4ba4-bebe-08e55f9e8bd1",
   "metadata": {},
   "outputs": [],
   "source": [
    "columns_to_remove = set(columns_to_keep).symmetric_difference(columns)"
   ]
  },
  {
   "cell_type": "code",
   "execution_count": null,
   "id": "f8794e3c-d9c9-4a03-8af5-a1f84d319a64",
   "metadata": {},
   "outputs": [],
   "source": [
    "issues_dataset = issues_dataset.remove_columns(columns_to_remove)"
   ]
  },
  {
   "cell_type": "code",
   "execution_count": null,
   "id": "20315204-fc59-4bae-94d8-086111d38c10",
   "metadata": {},
   "outputs": [],
   "source": [
    "issues_dataset.set_format('pandas')"
   ]
  },
  {
   "cell_type": "code",
   "execution_count": null,
   "id": "f54eebc8-8a12-4fc4-a9d1-9bd3a5b25d34",
   "metadata": {},
   "outputs": [],
   "source": [
    "df = issues_dataset[:]"
   ]
  },
  {
   "cell_type": "code",
   "execution_count": null,
   "id": "9b0af0af-a469-480f-8faa-b92e4d328f21",
   "metadata": {},
   "outputs": [],
   "source": [
    "df['comments'][0].tolist()"
   ]
  },
  {
   "cell_type": "code",
   "execution_count": null,
   "id": "48cd80ef-700d-4bc0-b7f4-b021e815528e",
   "metadata": {},
   "outputs": [],
   "source": [
    "comments_df = df.explode('comments', ignore_index=True)"
   ]
  },
  {
   "cell_type": "code",
   "execution_count": null,
   "id": "a4769c95-3a96-455a-a119-e53e96a495a6",
   "metadata": {},
   "outputs": [],
   "source": [
    "comments_df.head()"
   ]
  },
  {
   "cell_type": "code",
   "execution_count": null,
   "id": "763a8eec-b7e6-47ef-acca-28e32af8cfb1",
   "metadata": {},
   "outputs": [],
   "source": [
    "from datasets import Dataset"
   ]
  },
  {
   "cell_type": "code",
   "execution_count": null,
   "id": "4f012dce-467a-43ad-b0f2-9ff4017c30ae",
   "metadata": {},
   "outputs": [],
   "source": [
    "# can also make a dataset from dict\n",
    "comments_dataset = Dataset.from_pandas(comments_df)"
   ]
  },
  {
   "cell_type": "code",
   "execution_count": null,
   "id": "f22a21b2-5055-4951-9088-69c67f047b7f",
   "metadata": {},
   "outputs": [],
   "source": [
    "comments_dataset"
   ]
  },
  {
   "cell_type": "code",
   "execution_count": null,
   "id": "b329323e-d005-48d1-ade6-72cec27f0457",
   "metadata": {},
   "outputs": [],
   "source": [
    "# Explode without using pandas\n",
    "#issues_dataset.reset_format()\n",
    "\n",
    "# Example function to explode the comments\n",
    "def explode_comments(batch):\n",
    "    new_batch = {k: [] for k in batch}  # Initialize a new batch dictionary\n",
    "    for i in range(len(batch['comments'])):\n",
    "        for comment in batch['comments'][i]:\n",
    "            for key in batch:\n",
    "                if key == 'comments':\n",
    "                    new_batch[key].append(comment)\n",
    "                else:\n",
    "                    new_batch[key].append(batch[key][i])\n",
    "    return new_batch\n",
    "\n",
    "#batch = issues_dataset[0:1]\n",
    "#exploded_batch = explode_comments(batch)\n",
    "\n",
    "# Use map with batched=True and keep the structure consistent\n",
    "#exploded_dataset = issues_dataset.map(\n",
    "#    explode_comments,\n",
    "#    batched=True,  # Process examples in batches\n",
    "#)"
   ]
  },
  {
   "cell_type": "code",
   "execution_count": null,
   "id": "8f6b2474-f045-4939-addd-bf40a8e7807a",
   "metadata": {},
   "outputs": [],
   "source": [
    "comments_dataset = comments_dataset.map(\n",
    "    lambda x: {'comment_length': len(x['comments'].split())}\n",
    ")"
   ]
  },
  {
   "cell_type": "code",
   "execution_count": null,
   "id": "e11b3961-f89f-4702-906e-6eb89310c14c",
   "metadata": {},
   "outputs": [],
   "source": [
    "comments_dataset = comments_dataset.filter(\n",
    "    lambda x: x['comment_length'] > 15\n",
    ")"
   ]
  },
  {
   "cell_type": "code",
   "execution_count": null,
   "id": "cb657936-8a8d-469d-b351-23e100701aa3",
   "metadata": {},
   "outputs": [],
   "source": [
    "comments_dataset"
   ]
  },
  {
   "cell_type": "code",
   "execution_count": null,
   "id": "abc8c028-5c08-4c77-ad3d-bde8da98f0ef",
   "metadata": {},
   "outputs": [],
   "source": [
    "def concatenate_text(examples):\n",
    "    return {\n",
    "        'text': examples['title']\n",
    "        + ' \\n '\n",
    "        + examples['body']\n",
    "        + ' \\n '\n",
    "        + examples['comments']\n",
    "    }"
   ]
  },
  {
   "cell_type": "code",
   "execution_count": null,
   "id": "bd240345-6881-4d0d-8298-43f03ed9881d",
   "metadata": {},
   "outputs": [],
   "source": [
    "comments_dataset = comments_dataset.map(concatenate_text)"
   ]
  },
  {
   "cell_type": "code",
   "execution_count": null,
   "id": "980077c5-2548-4138-8938-ca5404f95ff9",
   "metadata": {},
   "outputs": [],
   "source": [
    "from transformers import AutoTokenizer, AutoModel"
   ]
  },
  {
   "cell_type": "code",
   "execution_count": null,
   "id": "3d99e0fe-8738-4d8b-9739-2b960eb0f2b8",
   "metadata": {},
   "outputs": [],
   "source": [
    "#ckeckpoint = 'sentence-transformers/multi-qa-mpnet-base-dot-v1'\n",
    "checkpoint = 'sentence-transformers/multi-qa-distilbert-cos-v1'"
   ]
  },
  {
   "cell_type": "code",
   "execution_count": null,
   "id": "eed15289-922a-4f17-96fc-073f90a04827",
   "metadata": {},
   "outputs": [],
   "source": [
    "tokenizer = AutoTokenizer.from_pretrained(checkpoint)"
   ]
  },
  {
   "cell_type": "code",
   "execution_count": null,
   "id": "e372f0e4-e2bd-4d78-9291-51a26766e29f",
   "metadata": {},
   "outputs": [],
   "source": [
    "model = AutoModel.from_pretrained(checkpoint, device_map=device)"
   ]
  },
  {
   "cell_type": "code",
   "execution_count": null,
   "id": "c1cbbed2-af8e-4338-8d6b-453dfcfb3536",
   "metadata": {},
   "outputs": [],
   "source": [
    "model.device"
   ]
  },
  {
   "cell_type": "code",
   "execution_count": null,
   "id": "0f5508e2-c33b-48e8-b45c-bd0945efde6b",
   "metadata": {},
   "outputs": [],
   "source": [
    "total = 0\n",
    "for p in model.parameters():\n",
    "    total += p.numel()\n",
    "np.log10(total)"
   ]
  },
  {
   "cell_type": "code",
   "execution_count": null,
   "id": "42896373-8bb7-4286-83c6-224feb804d3b",
   "metadata": {},
   "outputs": [],
   "source": [
    "# for mpnet\n",
    "def cls_pooling(model_output):\n",
    "    return model_output.last_hidden_state[:, 0]\n",
    "\n",
    "def get_embeddings(text_list):\n",
    "    encoded_input = tokenizer(\n",
    "        text_list, padding=True, truncation=True, return_tensors='pt'\n",
    "    )\n",
    "    encoded_input = batch_encoding_to_device(encoded_input)\n",
    "    model_output = model(**encoded_input)\n",
    "    return cls_pooling(model_output)"
   ]
  },
  {
   "cell_type": "markdown",
   "id": "1d7a4f48-c48a-459d-b2f2-b3ced2c9d33b",
   "metadata": {},
   "source": [
    "- unsqueeze: add dimension\n",
    "- expand: create copies\n",
    "- clamp: min/max clip"
   ]
  },
  {
   "cell_type": "code",
   "execution_count": null,
   "id": "092641ee-f4dd-4e9d-90ee-7c037fb6eb91",
   "metadata": {},
   "outputs": [],
   "source": [
    "# for distilbert\n",
    "import torch\n",
    "import torch.nn.functional as F\n",
    "\n",
    "# take mean of all tokens\n",
    "def mean_pooling(model_output, attention_mask):\n",
    "    token_embeddings = model_output.last_hidden_state\n",
    "    input_mask_expanded = attention_mask.unsqueeze(-1).expand(token_embeddings.size()).float()\n",
    "    mean_pool = (\n",
    "        torch.sum(token_embeddings * input_mask_expanded, 1) /\n",
    "        torch.clamp(input_mask_expanded.sum(1), min=1e-9)\n",
    "    )\n",
    "    return mean_pool\n",
    "\n",
    "def get_embeddings(text_list):\n",
    "    # tokenize sentences\n",
    "    encoded_input = tokenizer(\n",
    "        text_list, padding=True, truncation=True, return_tensors='pt'\n",
    "    )\n",
    "    encoded_input = encoded_input.to(device)\n",
    "\n",
    "    # compute token embeddings\n",
    "    with torch.no_grad():\n",
    "        model_output = model(**encoded_input, return_dict=True)\n",
    "\n",
    "    # perform pooling\n",
    "    embeddings = mean_pooling(model_output, encoded_input['attention_mask'])\n",
    "\n",
    "    # normalize embeddings\n",
    "    embeddings = F.normalize(embeddings, p=2, dim=1)\n",
    "\n",
    "    return embeddings"
   ]
  },
  {
   "cell_type": "code",
   "execution_count": null,
   "id": "26438eb0-37a6-4276-942a-3f72082baacc",
   "metadata": {},
   "outputs": [],
   "source": [
    "embeddings = get_embeddings(comments_dataset['text'][0])"
   ]
  },
  {
   "cell_type": "code",
   "execution_count": null,
   "id": "6d0ac215-2842-4391-befb-1d7a63d05a10",
   "metadata": {},
   "outputs": [],
   "source": [
    "embeddings.shape"
   ]
  },
  {
   "cell_type": "code",
   "execution_count": null,
   "id": "a3d5fa7f-359a-4c3c-a475-61328e43c04c",
   "metadata": {},
   "outputs": [],
   "source": [
    "embeddings_dataset = comments_dataset.map(\n",
    "    lambda x: {'embeddings': get_embeddings(x['text']).detach().cpu().numpy()[0]}\n",
    ")"
   ]
  },
  {
   "cell_type": "code",
   "execution_count": null,
   "id": "56145c44-beb0-4cdc-b12d-224f0c48d350",
   "metadata": {},
   "outputs": [],
   "source": [
    "embeddings_dataset"
   ]
  },
  {
   "cell_type": "code",
   "execution_count": null,
   "id": "14c1bc7d-b6ec-41c3-ac9e-b10389a5e004",
   "metadata": {},
   "outputs": [],
   "source": [
    "embeddings_dataset.add_faiss_index(column='embeddings')"
   ]
  },
  {
   "cell_type": "code",
   "execution_count": null,
   "id": "2be23cbc-f76a-4fbf-bc52-52e311beb7e0",
   "metadata": {},
   "outputs": [],
   "source": [
    "question = 'How can I load a dataset offline?'"
   ]
  },
  {
   "cell_type": "code",
   "execution_count": null,
   "id": "2c49d68f-7777-47fc-b1df-5c8536584fcd",
   "metadata": {},
   "outputs": [],
   "source": [
    "question_embedding = get_embeddings([question]).detach().cpu().numpy()"
   ]
  },
  {
   "cell_type": "code",
   "execution_count": null,
   "id": "4dc8c500-a121-4e6a-b6a2-d80d401361f7",
   "metadata": {},
   "outputs": [],
   "source": [
    "question_embedding.shape"
   ]
  },
  {
   "cell_type": "code",
   "execution_count": null,
   "id": "4908c25b-6df9-4154-aff2-083ae51734d1",
   "metadata": {},
   "outputs": [],
   "source": [
    "scores, samples = embeddings_dataset.get_nearest_examples(\n",
    "    'embeddings', question_embedding, k=5\n",
    ")"
   ]
  },
  {
   "cell_type": "code",
   "execution_count": null,
   "id": "e24afc97-ae26-48f4-bd21-2cb17b7b9434",
   "metadata": {},
   "outputs": [],
   "source": [
    "samples_df = pd.DataFrame.from_dict(samples)\n",
    "samples_df[\"scores\"] = scores\n",
    "samples_df.sort_values(\"scores\", ascending=False, inplace=True)"
   ]
  },
  {
   "cell_type": "code",
   "execution_count": null,
   "id": "a1c42692-5665-4d7b-9f8b-e2fd4dd87f0e",
   "metadata": {},
   "outputs": [],
   "source": [
    "#for _, row in samples_df.iterrows():\n",
    "#    print(f\"COMMENT: {row.comments}\")\n",
    "#    print(f\"SCORE: {row.scores}\")\n",
    "#    print(f\"TITLE: {row.title}\")\n",
    "#    print(f\"URL: {row.html_url}\")\n",
    "#    print(\"=\" * 50)\n",
    "#    print()"
   ]
  },
  {
   "cell_type": "markdown",
   "id": "e124dc13-8456-4e20-842f-106d539aa644",
   "metadata": {},
   "source": [
    "#### Using dot product"
   ]
  },
  {
   "cell_type": "code",
   "execution_count": null,
   "id": "21d51836-8a51-465e-82d7-d1773be73882",
   "metadata": {},
   "outputs": [],
   "source": [
    "query_emb = torch.Tensor(question_embedding).to(device)"
   ]
  },
  {
   "cell_type": "code",
   "execution_count": null,
   "id": "040e4577-b21e-4135-a8da-f2c632e4ea5f",
   "metadata": {},
   "outputs": [],
   "source": [
    "query_emb.shape"
   ]
  },
  {
   "cell_type": "code",
   "execution_count": null,
   "id": "f1be32b0-a99c-4966-bfbd-e4d544f4c88e",
   "metadata": {},
   "outputs": [],
   "source": [
    "doc_emb = torch.Tensor(embeddings_dataset['embeddings']).to(device)"
   ]
  },
  {
   "cell_type": "code",
   "execution_count": null,
   "id": "e9440c6f-3ba9-4046-9e47-cdc28b55c6a7",
   "metadata": {},
   "outputs": [],
   "source": [
    "doc_emb.shape"
   ]
  },
  {
   "cell_type": "code",
   "execution_count": null,
   "id": "9f3861d6-f098-4528-9c28-317b55bf5e7e",
   "metadata": {},
   "outputs": [],
   "source": [
    "scores = torch.mm(query_emb, doc_emb.transpose(0, 1))[0].cpu().tolist()"
   ]
  },
  {
   "cell_type": "code",
   "execution_count": null,
   "id": "75b2eac1-7526-4e7c-bf78-c25686c7466f",
   "metadata": {},
   "outputs": [],
   "source": [
    "doc_score_pairs = list(zip(embeddings_dataset['text'], scores))"
   ]
  },
  {
   "cell_type": "code",
   "execution_count": null,
   "id": "a5ab8805-051a-49f0-bc2c-1801a0d600d3",
   "metadata": {},
   "outputs": [],
   "source": [
    "doc_score_pairs = sorted(doc_score_pairs, key=lambda x: x[1], reverse=True)"
   ]
  },
  {
   "cell_type": "code",
   "execution_count": null,
   "id": "c6d156a5-54cf-4836-a556-281b7876c85a",
   "metadata": {},
   "outputs": [],
   "source": [
    "for doc, score in doc_score_pairs[:5]:\n",
    "    print(f\"DOC: {doc}\")\n",
    "    print(f\"SCORE: {score}\")\n",
    "    print(\"=\" * 50)\n",
    "    print()"
   ]
  },
  {
   "cell_type": "code",
   "execution_count": null,
   "id": "90c46003-ce0c-4e32-a6ca-de913719429b",
   "metadata": {},
   "outputs": [],
   "source": []
  }
 ],
 "metadata": {
  "kernelspec": {
   "display_name": "Python 3 (ipykernel)",
   "language": "python",
   "name": "python3"
  },
  "language_info": {
   "codemirror_mode": {
    "name": "ipython",
    "version": 3
   },
   "file_extension": ".py",
   "mimetype": "text/x-python",
   "name": "python",
   "nbconvert_exporter": "python",
   "pygments_lexer": "ipython3",
   "version": "3.11.8"
  }
 },
 "nbformat": 4,
 "nbformat_minor": 5
}
