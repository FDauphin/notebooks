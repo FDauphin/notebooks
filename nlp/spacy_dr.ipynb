{
 "cells": [
  {
   "cell_type": "code",
   "execution_count": null,
   "id": "661de216-bc8b-476c-8bcd-d7a5faeac7ce",
   "metadata": {},
   "outputs": [],
   "source": [
    "import numpy as np\n",
    "import matplotlib.pyplot as plt\n",
    "import pandas as pd\n",
    "import tqdm\n",
    "import os\n",
    "import glob"
   ]
  },
  {
   "cell_type": "code",
   "execution_count": null,
   "id": "9bcbd689-0734-48f3-b2bf-7cdc17bba79a",
   "metadata": {},
   "outputs": [],
   "source": [
    "import spacy"
   ]
  },
  {
   "cell_type": "code",
   "execution_count": null,
   "id": "5f431815-c0d0-4314-b8dd-dfb30937f7f2",
   "metadata": {},
   "outputs": [],
   "source": [
    "nlp = spacy.load('en_core_web_lg')"
   ]
  },
  {
   "cell_type": "code",
   "execution_count": null,
   "id": "9a689ae0-2faa-474a-95c9-c2cb4dbf428a",
   "metadata": {},
   "outputs": [],
   "source": [
    "def cosine_similarity(matrix, vector):\n",
    "    cos_sim = np.dot(matrix, vector) / (np.linalg.norm(matrix, axis=1) * np.linalg.norm(vector))\n",
    "    return cos_sim"
   ]
  },
  {
   "cell_type": "markdown",
   "id": "2d0b7eaf-29ec-47ad-b9a1-b9af1604dd17",
   "metadata": {
    "jp-MarkdownHeadingCollapsed": true
   },
   "source": [
    "## Load vocab (all)"
   ]
  },
  {
   "cell_type": "code",
   "execution_count": null,
   "id": "7627e226-e8f8-4b3f-8c93-deca5f2cb7c6",
   "metadata": {},
   "outputs": [],
   "source": [
    "vocab_vectors = nlp.vocab.vectors.data"
   ]
  },
  {
   "cell_type": "code",
   "execution_count": null,
   "id": "b8e8c4e7-1995-49d8-8d32-78fddfa374a9",
   "metadata": {},
   "outputs": [],
   "source": [
    "# keys are hashes\n",
    "vocab_words = np.array([nlp.vocab.strings[key] for key in nlp.vocab.vectors])"
   ]
  },
  {
   "cell_type": "code",
   "execution_count": null,
   "id": "1de76d27-0fbe-417d-bb2b-9d4a97c78e27",
   "metadata": {},
   "outputs": [],
   "source": [
    "if False:\n",
    "    lst = []\n",
    "    for i, word in tqdm.tqdm(enumerate(vocab_words), total=len(vocab_words)):\n",
    "        doc = nlp(str(word))\n",
    "        if len(doc) == 1:\n",
    "            token = doc[0]\n",
    "            lst.append(\n",
    "                [\n",
    "                    token.text, token.lemma_, token.pos_, token.tag_, token.dep_,\n",
    "                    token.shape_, token.is_alpha, token.is_stop, token.morph\n",
    "                ]\n",
    "            )\n",
    "        else:\n",
    "            row = [word]\n",
    "            row.extend([np.nan]*8)\n",
    "            lst.append(row)\n",
    "    cols = [\n",
    "        'text', 'lemma', 'pos', 'tag', 'dep', \n",
    "        'shape', 'alpha', 'stop', 'morph', \n",
    "    ]\n",
    "    df_vocab = pd.DataFrame(lst, columns=cols)\n",
    "else:\n",
    "    df_vocab = pd.read_csv('spacy_vocab.csv')"
   ]
  },
  {
   "cell_type": "code",
   "execution_count": null,
   "id": "b4be6e5e-030d-46a1-9978-573e56a90d5e",
   "metadata": {},
   "outputs": [],
   "source": [
    "vocab_words.shape, vocab_vectors.shape, df_vocab.shape"
   ]
  },
  {
   "cell_type": "markdown",
   "id": "3615231e-8d2a-4069-9b0f-b3d5966117d1",
   "metadata": {
    "jp-MarkdownHeadingCollapsed": true
   },
   "source": [
    "## Load vocab (English)"
   ]
  },
  {
   "cell_type": "code",
   "execution_count": null,
   "id": "ab4841dc-9ec6-480f-b020-672702513a01",
   "metadata": {},
   "outputs": [],
   "source": [
    "from string import ascii_lowercase"
   ]
  },
  {
   "cell_type": "code",
   "execution_count": null,
   "id": "2ed8f7de-7848-49cb-8ef9-9a68d6e9bcea",
   "metadata": {},
   "outputs": [],
   "source": [
    "lowercase = list(ascii_lowercase)"
   ]
  },
  {
   "cell_type": "code",
   "execution_count": null,
   "id": "22fcd921-435b-4590-b29a-9ef59f1d4cad",
   "metadata": {
    "scrolled": true
   },
   "outputs": [],
   "source": [
    "mask_lower = np.array([np.isin(list(text), lowercase, invert=True).sum() == 0 for text in tqdm.tqdm(df_vocab['text'].astype(str))])"
   ]
  },
  {
   "cell_type": "code",
   "execution_count": null,
   "id": "7505a9eb-affc-4509-8aae-2e49d5d0d90c",
   "metadata": {},
   "outputs": [],
   "source": [
    "from nltk.corpus import words"
   ]
  },
  {
   "cell_type": "code",
   "execution_count": null,
   "id": "8ff405b5-c85b-4e32-9488-4a11d8bc8678",
   "metadata": {},
   "outputs": [],
   "source": [
    "eng_arr = np.array(words.words())"
   ]
  },
  {
   "cell_type": "code",
   "execution_count": null,
   "id": "06f363b6-a2bf-4231-bfb1-9cf004a61b02",
   "metadata": {},
   "outputs": [],
   "source": [
    "mask_eng = np.isin(df_vocab['text'].values.astype(str), eng_arr)"
   ]
  },
  {
   "cell_type": "code",
   "execution_count": null,
   "id": "5d39b148-2898-49a9-acc0-11b8693bf637",
   "metadata": {},
   "outputs": [],
   "source": [
    "mask_lemma = df_vocab['text'] == df_vocab['lemma']"
   ]
  },
  {
   "cell_type": "code",
   "execution_count": null,
   "id": "877cfc24-6693-4814-945c-1ad2feef1df0",
   "metadata": {},
   "outputs": [],
   "source": [
    "mask = mask_lower & mask_eng & mask_lemma"
   ]
  },
  {
   "cell_type": "code",
   "execution_count": null,
   "id": "4e77078c-499a-42fb-a65b-753544ed8119",
   "metadata": {},
   "outputs": [],
   "source": [
    "df_vocab = df_vocab[mask]"
   ]
  },
  {
   "cell_type": "code",
   "execution_count": null,
   "id": "85b0e67f-7114-41cc-b946-214eed7c79a3",
   "metadata": {},
   "outputs": [],
   "source": [
    "vocab_words = vocab_words[mask]"
   ]
  },
  {
   "cell_type": "code",
   "execution_count": null,
   "id": "7560eb5c-c207-4d43-97b2-40cdbf035aa9",
   "metadata": {},
   "outputs": [],
   "source": [
    "vocab_vectors = vocab_vectors[mask]"
   ]
  },
  {
   "cell_type": "code",
   "execution_count": null,
   "id": "c2d94292-bc29-48c1-a2b5-820e24c56106",
   "metadata": {},
   "outputs": [],
   "source": [
    "vocab_words.shape, vocab_vectors.shape, df_vocab.shape"
   ]
  },
  {
   "cell_type": "markdown",
   "id": "7e499412-8a74-405f-8637-ffab1ed14ede",
   "metadata": {
    "jp-MarkdownHeadingCollapsed": true
   },
   "source": [
    "## EDA"
   ]
  },
  {
   "cell_type": "code",
   "execution_count": null,
   "id": "d71811ef-415b-4412-8c49-86ddcbfa4395",
   "metadata": {},
   "outputs": [],
   "source": [
    "vocab_words_len = np.array([len(i) for i in vocab_words])"
   ]
  },
  {
   "cell_type": "code",
   "execution_count": null,
   "id": "b8a18e01-fbd8-4f59-92b1-4e759a72d822",
   "metadata": {},
   "outputs": [],
   "source": [
    "#plt.hist(np.log10(vocab_words_len), bins=100)\n",
    "plt.hist(vocab_words_len, bins=100)\n",
    "plt.yscale('log')"
   ]
  },
  {
   "cell_type": "code",
   "execution_count": null,
   "id": "c7fc2ee1-ce41-43b2-93d6-a9f101a22204",
   "metadata": {},
   "outputs": [],
   "source": [
    "vocab_words_len.mean(), vocab_words_len.std()"
   ]
  },
  {
   "cell_type": "code",
   "execution_count": null,
   "id": "48652135-dd29-4ad1-bdc2-0b538869d8b1",
   "metadata": {},
   "outputs": [],
   "source": [
    "vocab_chars = list(''.join(vocab_words))"
   ]
  },
  {
   "cell_type": "code",
   "execution_count": null,
   "id": "d0898086-d20a-4d49-b961-321369145aa6",
   "metadata": {},
   "outputs": [],
   "source": [
    "char, cnt_char = np.unique(vocab_chars, return_counts=True)"
   ]
  },
  {
   "cell_type": "code",
   "execution_count": null,
   "id": "27dd9873-9c38-464e-ac3f-8e03a058c221",
   "metadata": {},
   "outputs": [],
   "source": [
    "plt.hist(np.log10(cnt_char), bins=50)\n",
    "plt.yscale('log')"
   ]
  },
  {
   "cell_type": "code",
   "execution_count": null,
   "id": "22bba8e9-46d2-4a46-94a3-068011db9c1e",
   "metadata": {},
   "outputs": [],
   "source": [
    "mask = cnt_char>100#0\n",
    "plt.figure(figsize=[15,5])\n",
    "plt.bar(char[mask], cnt_char[mask])\n",
    "plt.bar(f'\\nOther:\\n{(~mask).sum()}', cnt_char[~mask].sum())\n",
    "plt.yscale('log')\n",
    "plt.tight_layout()"
   ]
  },
  {
   "cell_type": "code",
   "execution_count": null,
   "id": "dea63a39-cdaa-4613-aadd-53ae066be897",
   "metadata": {},
   "outputs": [],
   "source": [
    "vocab_vectors_mean = vocab_vectors.mean(1)\n",
    "vocab_vectors_std = vocab_vectors.std(1)"
   ]
  },
  {
   "cell_type": "code",
   "execution_count": null,
   "id": "0d4499b6-99e5-413d-b656-e303bf4c70db",
   "metadata": {},
   "outputs": [],
   "source": [
    "fig, axs = plt.subplots(2,2,figsize=[10,10])\n",
    "axs[0,0].hist(vocab_vectors.flatten(), bins=200)\n",
    "axs[0,1].scatter(vocab_vectors_mean, vocab_vectors_std, alpha=0.1, s=1)\n",
    "axs[1,0].hist(vocab_vectors_mean, bins=100)\n",
    "axs[1,1].hist(vocab_vectors_std, bins=100)\n",
    "axs[0,0].set_yscale('log')\n",
    "#axs[0,1].set_yscale('log')\n",
    "axs[1,0].set_yscale('log')\n",
    "axs[1,1].set_yscale('log')"
   ]
  },
  {
   "cell_type": "code",
   "execution_count": null,
   "id": "87e18657-2170-4774-8f71-63c3c957dfdd",
   "metadata": {},
   "outputs": [],
   "source": [
    "corr = []\n",
    "for i in tqdm.tqdm(range(300)):\n",
    "    for j in range(i+1,300):\n",
    "        corr_ij = np.corrcoef(vocab_vectors[:, i], vocab_vectors[:, j])\n",
    "        corr.append([i, j, corr_ij[0, 1]])"
   ]
  },
  {
   "cell_type": "code",
   "execution_count": null,
   "id": "5fd14394-0512-418b-9052-b5a22c9ca59b",
   "metadata": {},
   "outputs": [],
   "source": [
    "corr = np.array(corr)"
   ]
  },
  {
   "cell_type": "code",
   "execution_count": null,
   "id": "b4404366-80a4-4909-ba01-256f3c33791b",
   "metadata": {},
   "outputs": [],
   "source": [
    "corr_min_0, corr_min_1, corr_min = corr[np.argmin(corr[:, 2])]\n",
    "corr_max_0, corr_max_1, corr_max = corr[np.argmax(corr[:, 2])]"
   ]
  },
  {
   "cell_type": "code",
   "execution_count": null,
   "id": "1d3639d1-987e-4c49-8508-452276407fd7",
   "metadata": {},
   "outputs": [],
   "source": [
    "fig, axs = plt.subplots(1,2,figsize=[10,5])\n",
    "axs[0].hist(corr[:, 2], bins=100)\n",
    "axs[1].scatter(vocab_vectors[:, int(corr_min_0)], vocab_vectors[:, int(corr_min_1)], s=1, alpha=0.1, label=f'{corr_min:.3f}')\n",
    "axs[1].scatter(vocab_vectors[:, int(corr_max_0)], vocab_vectors[:, int(corr_max_1)], s=1, alpha=0.1, label=f'{corr_max:.3f}')\n",
    "axs[0].set_yscale('log')\n",
    "axs[1].legend()"
   ]
  },
  {
   "cell_type": "code",
   "execution_count": null,
   "id": "ca0441dd-6329-4d5e-9aae-87f7ec804317",
   "metadata": {},
   "outputs": [],
   "source": [
    "df_vocab.shape[0] - len(set(df_vocab['lemma']))"
   ]
  },
  {
   "cell_type": "code",
   "execution_count": null,
   "id": "34cec973-0d7a-4811-88d3-bd0e0c849a35",
   "metadata": {},
   "outputs": [],
   "source": [
    "pos, cnt_pos = np.unique(df_vocab['pos'].astype(str), return_counts=True)"
   ]
  },
  {
   "cell_type": "code",
   "execution_count": null,
   "id": "6aa0f238-0d79-4e44-884f-3659db1c638a",
   "metadata": {},
   "outputs": [],
   "source": [
    "plt.figure(figsize=[15,5])\n",
    "plt.bar(pos, cnt_pos)\n",
    "plt.yscale('log')\n",
    "plt.tight_layout()"
   ]
  },
  {
   "cell_type": "code",
   "execution_count": null,
   "id": "726c248b-e592-4537-8c1d-0fc98bff411c",
   "metadata": {},
   "outputs": [],
   "source": [
    "tag, cnt_tag = np.unique(df_vocab['tag'].astype(str), return_counts=True)"
   ]
  },
  {
   "cell_type": "code",
   "execution_count": null,
   "id": "0a9da1e9-4232-4089-9f63-9059bf29a401",
   "metadata": {},
   "outputs": [],
   "source": [
    "plt.figure(figsize=[20,5])\n",
    "plt.bar(tag, cnt_tag)\n",
    "plt.yscale('log')\n",
    "plt.tight_layout()"
   ]
  },
  {
   "cell_type": "code",
   "execution_count": null,
   "id": "0d7f89e1-8c43-4fc1-b958-27d243d68cf7",
   "metadata": {},
   "outputs": [],
   "source": [
    "shape, cnt_shape = np.unique(df_vocab['shape'].astype(str), return_counts=True)"
   ]
  },
  {
   "cell_type": "code",
   "execution_count": null,
   "id": "76874dc0-c3d0-4240-b486-1fd1cb453726",
   "metadata": {},
   "outputs": [],
   "source": [
    "mask = cnt_shape>10#00\n",
    "plt.figure(figsize=[15,5])\n",
    "plt.bar(shape[mask], cnt_shape[mask])\n",
    "plt.bar(f'\\nOther:\\n{(~mask).sum()}', cnt_shape[~mask].sum())\n",
    "plt.yscale('log')\n",
    "plt.tight_layout()"
   ]
  },
  {
   "cell_type": "code",
   "execution_count": null,
   "id": "d95d2188-90e5-4ddd-85ba-44f9ecd3c4aa",
   "metadata": {},
   "outputs": [],
   "source": [
    "(df_vocab['alpha'] == True).sum() / df_vocab.shape[0]"
   ]
  },
  {
   "cell_type": "code",
   "execution_count": null,
   "id": "61468d53-2888-40ca-8f02-ae6ddb8e25ca",
   "metadata": {},
   "outputs": [],
   "source": [
    "(df_vocab['stop'] == True).sum() / df_vocab.shape[0]"
   ]
  },
  {
   "cell_type": "code",
   "execution_count": null,
   "id": "8a9a8968-c90e-4b4e-9b64-f1f94647a2d8",
   "metadata": {},
   "outputs": [],
   "source": [
    "morph, cnt_morph = np.unique(df_vocab['morph'].astype(str), return_counts=True)"
   ]
  },
  {
   "cell_type": "code",
   "execution_count": null,
   "id": "acb18ee9-65f0-478c-9d62-9c83c975abf6",
   "metadata": {},
   "outputs": [],
   "source": [
    "mask = cnt_morph>100#0\n",
    "morph_mask = []\n",
    "for i in range(morph[mask].shape[0]):\n",
    "    if i % 3 == 0:\n",
    "        if i == 0:\n",
    "            morph_mask.append('()')\n",
    "        else:\n",
    "            morph_mask.append(f'{morph[mask][i]}')\n",
    "    elif i % 3 == 1:\n",
    "        morph_mask.append(f'\\n{morph[mask][i]}')\n",
    "    else:\n",
    "        morph_mask.append(f'\\n\\n{morph[mask][i]}')\n",
    "plt.figure(figsize=[15,5])\n",
    "plt.bar(morph_mask, cnt_morph[mask])\n",
    "plt.bar(f'\\nOther:\\n{(~mask).sum()}', cnt_morph[~mask].sum())\n",
    "plt.yscale('log')\n",
    "plt.tight_layout()"
   ]
  },
  {
   "cell_type": "markdown",
   "id": "13468d49-d8d6-4b11-b814-4e89eae5a275",
   "metadata": {
    "jp-MarkdownHeadingCollapsed": true
   },
   "source": [
    "## PCA"
   ]
  },
  {
   "cell_type": "code",
   "execution_count": null,
   "id": "228cea87-bffa-4777-8823-8640ce7a4c40",
   "metadata": {},
   "outputs": [],
   "source": [
    "from sklearn.decomposition import PCA"
   ]
  },
  {
   "cell_type": "code",
   "execution_count": null,
   "id": "99e35ca2-fda1-4f04-97ef-14fb7473d944",
   "metadata": {},
   "outputs": [],
   "source": [
    "pca = PCA(n_components=2, whiten=True)"
   ]
  },
  {
   "cell_type": "code",
   "execution_count": null,
   "id": "a9af6e81-8aea-4f69-9b6f-fa896d477e0e",
   "metadata": {},
   "outputs": [],
   "source": [
    "pca_words = pca.fit_transform(vocab_vectors)"
   ]
  },
  {
   "cell_type": "code",
   "execution_count": null,
   "id": "41786b60-a132-4fed-90b0-d2a838196d81",
   "metadata": {},
   "outputs": [],
   "source": [
    "pca_words.shape"
   ]
  },
  {
   "cell_type": "code",
   "execution_count": null,
   "id": "8ed1089b-83de-4ae3-801e-e415e28597cb",
   "metadata": {},
   "outputs": [],
   "source": [
    "pca.explained_variance_ratio_.sum()"
   ]
  },
  {
   "cell_type": "code",
   "execution_count": null,
   "id": "06dbb2c0-256d-440e-85cc-fefd13dee3e3",
   "metadata": {},
   "outputs": [],
   "source": [
    "xmin = int(pca_words[:, 0].min()) - 1\n",
    "xmax = int(pca_words[:, 0].max()) + 1\n",
    "ymin = int(pca_words[:, 1].min()) - 1\n",
    "ymax = int(pca_words[:, 1].max()) + 1"
   ]
  },
  {
   "cell_type": "code",
   "execution_count": null,
   "id": "2f3e01d3-5688-4afb-950f-fb24af3272e3",
   "metadata": {},
   "outputs": [],
   "source": [
    "xmin, xmax, ymin, ymax"
   ]
  },
  {
   "cell_type": "code",
   "execution_count": null,
   "id": "b1f12217-f306-4a8c-89a6-7b48252d9949",
   "metadata": {},
   "outputs": [],
   "source": [
    "plt.figure(figsize=[10,10])\n",
    "plt.grid()\n",
    "plt.scatter(pca_words[:, 0], pca_words[:, 1], s=1, alpha=0.1)\n",
    "plt.xlim(xmin, xmax)\n",
    "plt.ylim(ymin, ymax)"
   ]
  },
  {
   "cell_type": "code",
   "execution_count": null,
   "id": "6eb9edeb-e204-455f-9fb8-f6d681a09bbc",
   "metadata": {},
   "outputs": [],
   "source": [
    "df_vocab.columns"
   ]
  },
  {
   "cell_type": "code",
   "execution_count": null,
   "id": "71fe7305-5583-49bd-95e2-405b5857e14f",
   "metadata": {
    "scrolled": true
   },
   "outputs": [],
   "source": [
    "for i in pos:\n",
    "    mask = df_vocab['pos'].astype(str) == i\n",
    "    plt.title(f'{i}: {mask.sum()}')\n",
    "    plt.scatter(pca_words[:, 0][mask], pca_words[:, 1][mask], s=1, alpha=0.5)\n",
    "    plt.xlim(xmin, xmax)\n",
    "    plt.ylim(ymin, ymax)\n",
    "    plt.show()"
   ]
  },
  {
   "cell_type": "code",
   "execution_count": null,
   "id": "38f55657-febb-4d9c-bfac-686b1008d5d0",
   "metadata": {},
   "outputs": [],
   "source": [
    "ind = np.argmax(pca.components_[1])"
   ]
  },
  {
   "cell_type": "code",
   "execution_count": null,
   "id": "2064db5a-bc28-41ba-b5af-3d8c2058a4f3",
   "metadata": {},
   "outputs": [],
   "source": [
    "vocab_words[np.argsort(vocab_vectors[:, ind])[-100:]]"
   ]
  },
  {
   "cell_type": "markdown",
   "id": "e4128be1-4362-483d-9310-8b1c175b2391",
   "metadata": {
    "jp-MarkdownHeadingCollapsed": true
   },
   "source": [
    "## UMAP"
   ]
  },
  {
   "cell_type": "code",
   "execution_count": null,
   "id": "fb5b7bab-f252-4942-a28b-d8c6e04b6c9e",
   "metadata": {},
   "outputs": [],
   "source": [
    "from umap import UMAP"
   ]
  },
  {
   "cell_type": "code",
   "execution_count": null,
   "id": "a4faf29d-2c29-4569-baa4-e41d9cdb2857",
   "metadata": {},
   "outputs": [],
   "source": [
    "umap = UMAP(n_components=2)"
   ]
  },
  {
   "cell_type": "code",
   "execution_count": null,
   "id": "3fe85f95-0b59-48d2-ab33-7bffa6f69615",
   "metadata": {},
   "outputs": [],
   "source": [
    "#umap.fit(vocab_vectors[::5])"
   ]
  },
  {
   "cell_type": "code",
   "execution_count": null,
   "id": "d8037f1b-33f4-4bbd-90aa-b140fdb0e4d7",
   "metadata": {},
   "outputs": [],
   "source": [
    "#skip = len(vocab_vectors)//7\n",
    "#umap_words = np.concatenate([umap.transform(vocab_vectors[i:i+skip]) for i in tqdm.tqdm(range(0, len(vocab_vectors), skip))])"
   ]
  },
  {
   "cell_type": "code",
   "execution_count": null,
   "id": "ad667c5f-6e7f-4bee-a706-df5f1d300bdf",
   "metadata": {},
   "outputs": [],
   "source": [
    "umap_words = umap.fit_transform(vocab_vectors)"
   ]
  },
  {
   "cell_type": "code",
   "execution_count": null,
   "id": "0bcc8c40-127c-4371-bde6-deec1b428c3d",
   "metadata": {},
   "outputs": [],
   "source": [
    "umap_words.shape"
   ]
  },
  {
   "cell_type": "code",
   "execution_count": null,
   "id": "59066608-c532-4cf9-88b0-a278b69a37b6",
   "metadata": {},
   "outputs": [],
   "source": [
    "xmin = int(umap_words[:, 0].min()) - 1\n",
    "xmax = int(umap_words[:, 0].max()) + 1\n",
    "ymin = int(umap_words[:, 1].min()) - 1\n",
    "ymax = int(umap_words[:, 1].max()) + 1"
   ]
  },
  {
   "cell_type": "code",
   "execution_count": null,
   "id": "5768f62a-32fb-4339-946a-8b1289cc1d7e",
   "metadata": {},
   "outputs": [],
   "source": [
    "xmin, xmax, ymin, ymax"
   ]
  },
  {
   "cell_type": "code",
   "execution_count": null,
   "id": "6953336f-c65f-40f7-ad11-41a2a6da5368",
   "metadata": {},
   "outputs": [],
   "source": [
    "plt.figure(figsize=[10,10])\n",
    "plt.grid()\n",
    "plt.scatter(umap_words[:, 0], umap_words[:, 1], s=1, alpha=0.1)\n",
    "plt.xlim(xmin, xmax)\n",
    "plt.ylim(ymin, ymax)"
   ]
  },
  {
   "cell_type": "code",
   "execution_count": null,
   "id": "f78993cd-3696-4f73-be6d-b92c394d5ff7",
   "metadata": {},
   "outputs": [],
   "source": [
    "df_vocab.columns"
   ]
  },
  {
   "cell_type": "code",
   "execution_count": null,
   "id": "478fa616-2411-4eb9-8993-acefd1ba9fee",
   "metadata": {
    "scrolled": true
   },
   "outputs": [],
   "source": [
    "for i in pos:\n",
    "    mask = df_vocab['pos'].astype(str) == i\n",
    "    plt.title(f'{i}: {mask.sum()}')\n",
    "    plt.scatter(umap_words[:, 0][mask], umap_words[:, 1][mask], s=1, alpha=0.5)\n",
    "    plt.xlim(xmin, xmax)\n",
    "    plt.ylim(ymin, ymax)\n",
    "    plt.show()"
   ]
  },
  {
   "cell_type": "markdown",
   "id": "e64cf3f3-f6ac-4a33-86e2-d5c9de5d8224",
   "metadata": {
    "jp-MarkdownHeadingCollapsed": true
   },
   "source": [
    "## Similarity"
   ]
  },
  {
   "cell_type": "code",
   "execution_count": null,
   "id": "d8dac9c4-6834-44b0-a2da-a567f886bdbd",
   "metadata": {},
   "outputs": [],
   "source": [
    "vocab_small = np.load('vocab_lemma_small.npz')['vls']"
   ]
  },
  {
   "cell_type": "code",
   "execution_count": null,
   "id": "87d4bfde-25d4-418d-b59f-f3415864fbed",
   "metadata": {},
   "outputs": [],
   "source": [
    "vocab_small"
   ]
  },
  {
   "cell_type": "code",
   "execution_count": null,
   "id": "90932c0d-0041-4c84-a904-c8f7b62ea7e2",
   "metadata": {},
   "outputs": [],
   "source": [
    "target_vector = vocab_vectors[np.where('one' == vocab_words)[0][0]]"
   ]
  },
  {
   "cell_type": "code",
   "execution_count": null,
   "id": "8d78b323-007c-4a98-8f33-8a5f090e7ed1",
   "metadata": {},
   "outputs": [],
   "source": [
    "cos_sim = cosine_similarity(vocab_vectors, target_vector)\n",
    "inds_sort = np.argsort(cos_sim)"
   ]
  },
  {
   "cell_type": "code",
   "execution_count": null,
   "id": "38e4cc35-e688-490c-9e4a-419e83b65e62",
   "metadata": {},
   "outputs": [],
   "source": [
    "vocab_words[inds_sort[-100:]]"
   ]
  },
  {
   "cell_type": "code",
   "execution_count": null,
   "id": "9d33f44f-568b-40b6-8592-96452a380af5",
   "metadata": {},
   "outputs": [],
   "source": [
    "plt.figure(figsize=[10,10])\n",
    "plt.grid()\n",
    "plt.scatter(umap_words[:, 0], umap_words[:, 1], s=1, alpha=0.1)\n",
    "plt.scatter(umap_words[inds_sort[-100:-1], 0], umap_words[inds_sort[-100:-1], 1], s=10, alpha=1)\n",
    "plt.scatter(umap_words[inds_sort[-1], 0], umap_words[inds_sort[-1], 1], s=10, alpha=1)\n",
    "plt.xlim(xmin, xmax)\n",
    "plt.ylim(ymin, ymax)"
   ]
  },
  {
   "cell_type": "code",
   "execution_count": null,
   "id": "ef84ef8a-7319-40ef-b4a4-b3591523dbbd",
   "metadata": {},
   "outputs": [],
   "source": []
  }
 ],
 "metadata": {
  "kernelspec": {
   "display_name": "Python 3 (ipykernel)",
   "language": "python",
   "name": "python3"
  },
  "language_info": {
   "codemirror_mode": {
    "name": "ipython",
    "version": 3
   },
   "file_extension": ".py",
   "mimetype": "text/x-python",
   "name": "python",
   "nbconvert_exporter": "python",
   "pygments_lexer": "ipython3",
   "version": "3.11.8"
  }
 },
 "nbformat": 4,
 "nbformat_minor": 5
}
