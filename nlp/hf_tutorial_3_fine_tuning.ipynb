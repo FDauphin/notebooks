{
 "cells": [
  {
   "cell_type": "code",
   "execution_count": null,
   "id": "7eccedc9-09d5-47ad-8562-74f2b2c2143b",
   "metadata": {},
   "outputs": [],
   "source": [
    "from transformers import pipeline"
   ]
  },
  {
   "cell_type": "code",
   "execution_count": null,
   "id": "713d55bf-4479-45e8-bce0-0afbf4b8fa20",
   "metadata": {},
   "outputs": [],
   "source": [
    "import numpy as np\n",
    "import matplotlib.pyplot as plt\n",
    "import pandas as pd\n",
    "import scipy\n",
    "import tqdm"
   ]
  },
  {
   "cell_type": "code",
   "execution_count": null,
   "id": "6ef4ec07-958d-4730-8fd2-04b4c8c5673c",
   "metadata": {},
   "outputs": [],
   "source": [
    "device = 'mps'"
   ]
  },
  {
   "cell_type": "code",
   "execution_count": null,
   "id": "65284257-852e-4715-aad0-71088cf95ab5",
   "metadata": {},
   "outputs": [],
   "source": [
    "def batch_encoding_to_device(batch):\n",
    "    return {k: v.to(device) for k, v in batch.items()}"
   ]
  },
  {
   "cell_type": "markdown",
   "id": "de375d22-55d8-4583-8168-12c675eb456d",
   "metadata": {},
   "source": [
    "## 3. Fine-Tuning"
   ]
  },
  {
   "cell_type": "markdown",
   "id": "70be463b-bc9c-4ea8-9404-c760d29092ec",
   "metadata": {
    "jp-MarkdownHeadingCollapsed": true
   },
   "source": [
    "### 3.1 Processing data"
   ]
  },
  {
   "cell_type": "code",
   "execution_count": null,
   "id": "98c23223-418d-4583-8c26-c1c6688e8be2",
   "metadata": {},
   "outputs": [],
   "source": [
    "import torch\n",
    "from transformers import AdamW, AutoTokenizer, AutoModelForSequenceClassification"
   ]
  },
  {
   "cell_type": "code",
   "execution_count": null,
   "id": "a0113619-cd63-4316-96b6-eafd3ff795e3",
   "metadata": {},
   "outputs": [],
   "source": [
    "checkpoint = 'bert-base-uncased'\n",
    "tokenizer = AutoTokenizer.from_pretrained(checkpoint)\n",
    "model = AutoModelForSequenceClassification.from_pretrained(checkpoint)\n",
    "model.to(device);"
   ]
  },
  {
   "cell_type": "code",
   "execution_count": null,
   "id": "464e4e2d-7049-43ec-a0dc-87d21b296bb9",
   "metadata": {},
   "outputs": [],
   "source": [
    "sequences = [\n",
    "    \"I've been waiting for a HuggingFace course my whole life.\",\n",
    "    \"This course is amazing!\",\n",
    "]"
   ]
  },
  {
   "cell_type": "code",
   "execution_count": null,
   "id": "1c5cc4dd-b8e3-4ea0-a5d9-356b35405ee6",
   "metadata": {},
   "outputs": [],
   "source": [
    "batch = tokenizer(sequences, padding=True, truncation=True, return_tensors='pt').to(device)"
   ]
  },
  {
   "cell_type": "code",
   "execution_count": null,
   "id": "62fc835e-f33b-40f7-b821-18a3d255de5d",
   "metadata": {},
   "outputs": [],
   "source": [
    "batch['labels'] = torch.tensor([1, 1]).to(device)"
   ]
  },
  {
   "cell_type": "code",
   "execution_count": null,
   "id": "bb618989-d9e6-43f1-9874-f798321ef96d",
   "metadata": {},
   "outputs": [],
   "source": [
    "#optimizer = AdamW(model.parameters())\n",
    "optimizer = torch.optim.AdamW(model.parameters())"
   ]
  },
  {
   "cell_type": "code",
   "execution_count": null,
   "id": "4e751e7c-b9fa-4bc6-8148-c44623a3aec8",
   "metadata": {},
   "outputs": [],
   "source": [
    "loss = model(**batch).loss"
   ]
  },
  {
   "cell_type": "code",
   "execution_count": null,
   "id": "25c793a5-d7c6-4b59-a4bc-a1e4a99f9a3f",
   "metadata": {},
   "outputs": [],
   "source": [
    "loss.backward()"
   ]
  },
  {
   "cell_type": "code",
   "execution_count": null,
   "id": "b02972ec-d76e-431d-bb80-b332d468210c",
   "metadata": {},
   "outputs": [],
   "source": [
    "optimizer.step()"
   ]
  },
  {
   "cell_type": "code",
   "execution_count": null,
   "id": "8f87e313-1b33-495e-908f-354bfde5c892",
   "metadata": {},
   "outputs": [],
   "source": [
    "from datasets import load_dataset"
   ]
  },
  {
   "cell_type": "code",
   "execution_count": null,
   "id": "6a61ede3-cafa-407e-800d-f8c3c740ac77",
   "metadata": {},
   "outputs": [],
   "source": [
    "raw_datasets = load_dataset('glue', 'mrpc')"
   ]
  },
  {
   "cell_type": "code",
   "execution_count": null,
   "id": "d7bc761d-745e-4f0c-ac85-851e7a51ed70",
   "metadata": {},
   "outputs": [],
   "source": [
    "raw_datasets"
   ]
  },
  {
   "cell_type": "code",
   "execution_count": null,
   "id": "3803163b-8f61-407c-b91a-c4ac8e77c051",
   "metadata": {},
   "outputs": [],
   "source": [
    "raw_train_dataset = raw_datasets['train']"
   ]
  },
  {
   "cell_type": "code",
   "execution_count": null,
   "id": "a324f7e1-927b-43e7-8cf6-e8376d4bd5ba",
   "metadata": {},
   "outputs": [],
   "source": [
    "raw_train_dataset[0]"
   ]
  },
  {
   "cell_type": "code",
   "execution_count": null,
   "id": "91d0b0bc-eed7-44fe-be3d-3916a0bdf662",
   "metadata": {},
   "outputs": [],
   "source": [
    "raw_train_dataset.features"
   ]
  },
  {
   "cell_type": "code",
   "execution_count": null,
   "id": "6fed94f1-bdec-4737-b1ef-9b1477be92d3",
   "metadata": {},
   "outputs": [],
   "source": [
    "tokenized_sentences_1 = tokenizer(raw_train_dataset['sentence1'])\n",
    "tokenized_sentences_2 = tokenizer(raw_train_dataset['sentence2'])"
   ]
  },
  {
   "cell_type": "code",
   "execution_count": null,
   "id": "b0ac0a3a-27d7-4e12-9dc5-f70adf4d4cba",
   "metadata": {},
   "outputs": [],
   "source": [
    "tokenized_sentences_1.keys()"
   ]
  },
  {
   "cell_type": "code",
   "execution_count": null,
   "id": "a9073739-2207-4608-9197-2ef1c9cbdd60",
   "metadata": {},
   "outputs": [],
   "source": [
    "token_lengths = []\n",
    "for i, j in zip(tokenized_sentences_1['input_ids'], tokenized_sentences_2['input_ids']):\n",
    "    token_lengths.append([len(i), len(j)])"
   ]
  },
  {
   "cell_type": "code",
   "execution_count": null,
   "id": "bcdc706a-d936-45c9-869c-aad5f4cae904",
   "metadata": {},
   "outputs": [],
   "source": [
    "token_lengths = np.array(token_lengths)"
   ]
  },
  {
   "cell_type": "code",
   "execution_count": null,
   "id": "1f80dfda-4ea1-41e9-966d-a91046d84e95",
   "metadata": {},
   "outputs": [],
   "source": [
    "plt.hist(token_lengths[:, 0], alpha=0.5)\n",
    "plt.hist(token_lengths[:, 1], alpha=0.5)"
   ]
  },
  {
   "cell_type": "code",
   "execution_count": null,
   "id": "c0354742-db1f-4957-85e8-2910bd7d9a07",
   "metadata": {},
   "outputs": [],
   "source": [
    "inputs = tokenizer('This is the first sentence.', 'This is the second one.')\n",
    "inputs1 = tokenizer('This is the first sentence.')\n",
    "inputs2 = tokenizer('This is the second one.')"
   ]
  },
  {
   "cell_type": "code",
   "execution_count": null,
   "id": "1a5315c8-32ae-40d2-ac4c-77a780a2b654",
   "metadata": {},
   "outputs": [],
   "source": [
    "# token_type_ids --> which tokens belong to which sentences\n",
    "inputs"
   ]
  },
  {
   "cell_type": "code",
   "execution_count": null,
   "id": "a77e35cf-897f-4eff-a6af-e6cac10daeb2",
   "metadata": {},
   "outputs": [],
   "source": [
    "inputs1"
   ]
  },
  {
   "cell_type": "code",
   "execution_count": null,
   "id": "1e15c53f-4451-41b3-817b-7631d88c5fce",
   "metadata": {},
   "outputs": [],
   "source": [
    "inputs2"
   ]
  },
  {
   "cell_type": "code",
   "execution_count": null,
   "id": "5445a1a4-c711-498f-bcc6-ddfd7b77b87b",
   "metadata": {},
   "outputs": [],
   "source": [
    "decoded = tokenizer.convert_ids_to_tokens(inputs['input_ids'])"
   ]
  },
  {
   "cell_type": "code",
   "execution_count": null,
   "id": "e6b43753-3db9-4ee6-be3b-0cbc26138ddb",
   "metadata": {},
   "outputs": [],
   "source": [
    "print(decoded)"
   ]
  },
  {
   "cell_type": "code",
   "execution_count": null,
   "id": "5404bf44-0ee5-4b53-aa33-2bd1ba62baa0",
   "metadata": {},
   "outputs": [],
   "source": [
    "tokenized_dataset = tokenizer(\n",
    "    raw_train_dataset['sentence1'],\n",
    "    raw_train_dataset['sentence2'],\n",
    "    padding=True,\n",
    "    truncation=True,\n",
    "    return_tensors='pt'\n",
    ")"
   ]
  },
  {
   "cell_type": "code",
   "execution_count": null,
   "id": "d1eec63d-efe2-46fc-8699-20432a88572b",
   "metadata": {},
   "outputs": [],
   "source": [
    "# no padding in function since it'll be used on batches and batches will have different lengths\n",
    "def tokenize_function(example):\n",
    "    return tokenizer(example['sentence1'], example['sentence2'], truncation=True)"
   ]
  },
  {
   "cell_type": "code",
   "execution_count": null,
   "id": "2854079d-239b-4b3c-b72d-90d04fce32db",
   "metadata": {},
   "outputs": [],
   "source": [
    "tokenized_datasets = raw_datasets.map(tokenize_function, batched=True)"
   ]
  },
  {
   "cell_type": "code",
   "execution_count": null,
   "id": "fbae399b-8519-43ef-83bb-38f1005e9731",
   "metadata": {},
   "outputs": [],
   "source": [
    "tokenized_datasets"
   ]
  },
  {
   "cell_type": "code",
   "execution_count": null,
   "id": "d999ab9c-1aa6-4d79-827c-775ecdd0d6ef",
   "metadata": {},
   "outputs": [],
   "source": [
    "from transformers import DataCollatorWithPadding"
   ]
  },
  {
   "cell_type": "code",
   "execution_count": null,
   "id": "999527d0-b182-4bde-94c9-1449adc88e5e",
   "metadata": {},
   "outputs": [],
   "source": [
    "data_collator = DataCollatorWithPadding(tokenizer=tokenizer)"
   ]
  },
  {
   "cell_type": "code",
   "execution_count": null,
   "id": "edf11110-da93-4672-bd1f-b987d2e2b590",
   "metadata": {},
   "outputs": [],
   "source": [
    "data_collator"
   ]
  },
  {
   "cell_type": "code",
   "execution_count": null,
   "id": "a6003d64-9ada-419c-bafd-1d82af339804",
   "metadata": {},
   "outputs": [],
   "source": [
    "samples = tokenized_datasets['train'][:8]"
   ]
  },
  {
   "cell_type": "code",
   "execution_count": null,
   "id": "e30d8781-912c-4a25-85d1-268b716d9991",
   "metadata": {},
   "outputs": [],
   "source": [
    "samples = {k: v for k, v in samples.items() if k not in ['idx', 'sentence1', 'sentence2']}"
   ]
  },
  {
   "cell_type": "code",
   "execution_count": null,
   "id": "8c401f34-74ae-472f-89fc-c9abcf1c1b78",
   "metadata": {},
   "outputs": [],
   "source": [
    "[len(x) for x in samples['input_ids']]"
   ]
  },
  {
   "cell_type": "code",
   "execution_count": null,
   "id": "b9161524-5da3-43ee-a738-e2da4f88f637",
   "metadata": {},
   "outputs": [],
   "source": [
    "batch = data_collator(samples)"
   ]
  },
  {
   "cell_type": "code",
   "execution_count": null,
   "id": "2c33acf2-c4a9-46c6-a64c-915b069fced3",
   "metadata": {},
   "outputs": [],
   "source": [
    "{k: v.shape for k, v in batch.items()}"
   ]
  },
  {
   "cell_type": "markdown",
   "id": "29b9f2be-d659-46cb-a32a-57e3e99ceaec",
   "metadata": {
    "jp-MarkdownHeadingCollapsed": true
   },
   "source": [
    "### 3.2 Finte-tuning a model with Trainer API"
   ]
  },
  {
   "cell_type": "code",
   "execution_count": null,
   "id": "be0f5f33-5457-4654-8c20-f49cc59f61b9",
   "metadata": {},
   "outputs": [],
   "source": [
    "from datasets import load_dataset"
   ]
  },
  {
   "cell_type": "code",
   "execution_count": null,
   "id": "eadd829c-ca9f-470c-a62c-e5bc8c13e19d",
   "metadata": {},
   "outputs": [],
   "source": [
    "from transformers import AutoTokenizer, DataCollatorWithPadding"
   ]
  },
  {
   "cell_type": "code",
   "execution_count": null,
   "id": "a92bc3dc-e61b-488b-81d5-3f79741dd9cf",
   "metadata": {},
   "outputs": [],
   "source": [
    "raw_datasets = load_dataset('glue', 'mrpc')"
   ]
  },
  {
   "cell_type": "code",
   "execution_count": null,
   "id": "aec414f8-7ea8-4251-96e3-416fe5b2c902",
   "metadata": {},
   "outputs": [],
   "source": [
    "checkpoint = 'bert-base-uncased'\n",
    "tokenizer = AutoTokenizer.from_pretrained(checkpoint)"
   ]
  },
  {
   "cell_type": "code",
   "execution_count": null,
   "id": "9149e390-7705-49d9-a070-e55e1ad06d5a",
   "metadata": {},
   "outputs": [],
   "source": [
    "def tokenize_function(example):\n",
    "    return tokenizer(example['sentence1'], example['sentence2'], truncation=True)"
   ]
  },
  {
   "cell_type": "code",
   "execution_count": null,
   "id": "dd074a42-f59d-41c3-badf-596e33669709",
   "metadata": {},
   "outputs": [],
   "source": [
    "tokenized_datasets = raw_datasets.map(tokenize_function, batched=True)"
   ]
  },
  {
   "cell_type": "code",
   "execution_count": null,
   "id": "9d7e653e-d7bd-4eb2-b0bc-aaaad50522df",
   "metadata": {},
   "outputs": [],
   "source": [
    "data_collator = DataCollatorWithPadding(tokenizer=tokenizer)"
   ]
  },
  {
   "cell_type": "code",
   "execution_count": null,
   "id": "6773d8e7-bfef-4fb7-81f8-2ad81c8096cb",
   "metadata": {},
   "outputs": [],
   "source": [
    "from transformers import TrainingArguments"
   ]
  },
  {
   "cell_type": "code",
   "execution_count": null,
   "id": "ec880e83-6276-4195-8789-9b6157fa8361",
   "metadata": {},
   "outputs": [],
   "source": [
    "training_args = TrainingArguments(\n",
    "    'test-trainer',\n",
    "    #eval_strategy='epoch', # eval every epoch\n",
    "    #num_train_epochs=3\n",
    ")"
   ]
  },
  {
   "cell_type": "code",
   "execution_count": null,
   "id": "fb6fc0ac-b5da-456e-9d84-f1bf896cbb51",
   "metadata": {},
   "outputs": [],
   "source": [
    "training_args.per_device_train_batch_size, training_args.per_device_eval_batch_size"
   ]
  },
  {
   "cell_type": "code",
   "execution_count": null,
   "id": "2a631e4d-e70a-45af-bb09-2b7d462afc52",
   "metadata": {},
   "outputs": [],
   "source": [
    "from transformers import AutoModelForSequenceClassification"
   ]
  },
  {
   "cell_type": "code",
   "execution_count": null,
   "id": "da3d766d-fce9-431e-8535-39d232b37a18",
   "metadata": {},
   "outputs": [],
   "source": [
    "model = AutoModelForSequenceClassification.from_pretrained(checkpoint, num_labels=2)\n",
    "model.to(device);"
   ]
  },
  {
   "cell_type": "code",
   "execution_count": null,
   "id": "8bc411ab-f9c6-4a57-b640-a4be6e75ceb3",
   "metadata": {},
   "outputs": [],
   "source": [
    "from transformers import Trainer"
   ]
  },
  {
   "cell_type": "code",
   "execution_count": null,
   "id": "2c837fda-94cb-4672-a3a6-ad40a5a318ba",
   "metadata": {},
   "outputs": [],
   "source": [
    "# handles putting data on device\n",
    "trainer = Trainer(\n",
    "    model,\n",
    "    training_args,\n",
    "    train_dataset=tokenized_datasets['train'],\n",
    "    eval_dataset=tokenized_datasets['validation'],\n",
    "    #data_collator=data_collator, # uses data collator with padding by default\n",
    "    tokenizer=tokenizer,\n",
    ")"
   ]
  },
  {
   "cell_type": "code",
   "execution_count": null,
   "id": "a2de877a-b8eb-4d11-bc57-7a9667b96813",
   "metadata": {},
   "outputs": [],
   "source": [
    "trainer.train()"
   ]
  },
  {
   "cell_type": "code",
   "execution_count": null,
   "id": "da29fc88-9658-42f5-9a0f-618b2457f92d",
   "metadata": {},
   "outputs": [],
   "source": [
    "predictions = trainer.predict(tokenized_datasets['validation'])"
   ]
  },
  {
   "cell_type": "code",
   "execution_count": null,
   "id": "2ae478ed-34dc-40ca-b1b7-4106631ee19b",
   "metadata": {},
   "outputs": [],
   "source": [
    "predictions.predictions.shape, predictions.label_ids.shape"
   ]
  },
  {
   "cell_type": "code",
   "execution_count": null,
   "id": "e2e2fcdf-decf-4cf0-b64b-e129753bf0d6",
   "metadata": {},
   "outputs": [],
   "source": [
    "predictions.metrics"
   ]
  },
  {
   "cell_type": "code",
   "execution_count": null,
   "id": "7f23d409-e9f7-4b27-ad6b-7ad73e765d7d",
   "metadata": {},
   "outputs": [],
   "source": [
    "preds = np.argmax(predictions.predictions, axis=-1)"
   ]
  },
  {
   "cell_type": "code",
   "execution_count": null,
   "id": "e6cf2f87-23ec-45d8-bf90-39bd7555333e",
   "metadata": {},
   "outputs": [],
   "source": [
    "preds.shape"
   ]
  },
  {
   "cell_type": "code",
   "execution_count": null,
   "id": "bf7ec818-cb17-4ade-9b17-bbee8c31c0a7",
   "metadata": {},
   "outputs": [],
   "source": [
    "import evaluate"
   ]
  },
  {
   "cell_type": "code",
   "execution_count": null,
   "id": "b1b423d5-6fe6-421f-9efa-a3d9582e9911",
   "metadata": {},
   "outputs": [],
   "source": [
    "metric = evaluate.load('glue', 'mrpc')"
   ]
  },
  {
   "cell_type": "code",
   "execution_count": null,
   "id": "e0882a45-5574-4dcb-8edb-a85c923ee6e7",
   "metadata": {},
   "outputs": [],
   "source": [
    "metric.compute(predictions=preds, references=predictions.label_ids)"
   ]
  },
  {
   "cell_type": "code",
   "execution_count": null,
   "id": "3e5dd8be-c44f-4807-b6ba-b0182b331098",
   "metadata": {},
   "outputs": [],
   "source": [
    "def compute_metrics(eval_preds):\n",
    "    metric = evaluate.load('glue', 'mrpc')\n",
    "    logits, labels = eval_preds\n",
    "    predictions = np.argmax(logits, axis=-1)\n",
    "    return metric.compute(predictions=predictions, references=labels)"
   ]
  },
  {
   "cell_type": "code",
   "execution_count": null,
   "id": "1a47233d-f540-4796-8bd2-c2e381f2b6d8",
   "metadata": {},
   "outputs": [],
   "source": [
    "training_args = TrainingArguments('test-trainer', evaluation_strategy='epoch')\n",
    "model = AutoModelForSequenceClassification.from_pretrained(checkpoint, num_labels=2)"
   ]
  },
  {
   "cell_type": "code",
   "execution_count": null,
   "id": "6bb0ea20-9210-4db6-9fcd-8a62318710dd",
   "metadata": {},
   "outputs": [],
   "source": [
    "# trainer automatically attaches model to gpu is available\n",
    "trainer = Trainer(\n",
    "    model,\n",
    "    training_args,\n",
    "    train_dataset=tokenized_datasets['train'],\n",
    "    eval_dataset=tokenized_datasets['validation'],\n",
    "    data_collator=data_collator,\n",
    "    tokenizer=tokenizer,\n",
    "    compute_metrics=compute_metrics\n",
    ")"
   ]
  },
  {
   "cell_type": "code",
   "execution_count": null,
   "id": "c30da143-c7e7-400c-9899-1d9329a457d5",
   "metadata": {},
   "outputs": [],
   "source": [
    "trainer.train()"
   ]
  },
  {
   "cell_type": "code",
   "execution_count": null,
   "id": "28a32403-bebb-4c06-becd-ed4d4e5fa077",
   "metadata": {},
   "outputs": [],
   "source": [
    "predictions = trainer.predict(tokenized_datasets['validation'])"
   ]
  },
  {
   "cell_type": "code",
   "execution_count": null,
   "id": "5c403846-d7ca-419e-bfe3-31ad2628aa7d",
   "metadata": {},
   "outputs": [],
   "source": [
    "predictions.metrics"
   ]
  },
  {
   "cell_type": "markdown",
   "id": "d7d08313-34df-4719-8dd6-8c3b1c232b82",
   "metadata": {
    "jp-MarkdownHeadingCollapsed": true
   },
   "source": [
    "### 3.3 A full training"
   ]
  },
  {
   "cell_type": "code",
   "execution_count": null,
   "id": "0e440e8f-6161-462d-ab4c-52ccba1a85a4",
   "metadata": {},
   "outputs": [],
   "source": [
    "from datasets import load_dataset\n",
    "from transformers import AutoTokenizer, DataCollatorWithPadding"
   ]
  },
  {
   "cell_type": "code",
   "execution_count": null,
   "id": "5e423267-5da0-4249-a27a-ad9c1f658601",
   "metadata": {},
   "outputs": [],
   "source": [
    "raw_datasets = load_dataset('glue', 'mrpc')\n",
    "checkpoint = 'bert-base-uncased'\n",
    "tokenizer = AutoTokenizer.from_pretrained(checkpoint)"
   ]
  },
  {
   "cell_type": "code",
   "execution_count": null,
   "id": "be969b4e-69db-42d4-adf3-7e3d57b21a51",
   "metadata": {},
   "outputs": [],
   "source": [
    "def tokenize_function(example):\n",
    "    return tokenizer(example['sentence1'], example['sentence2'], truncation=True)"
   ]
  },
  {
   "cell_type": "code",
   "execution_count": null,
   "id": "9231a04a-9089-4882-aa8f-dd5c74f4da71",
   "metadata": {},
   "outputs": [],
   "source": [
    "tokenized_datasets = raw_datasets.map(tokenize_function, batched=True)\n",
    "data_collator = DataCollatorWithPadding(tokenizer=tokenizer)"
   ]
  },
  {
   "cell_type": "code",
   "execution_count": null,
   "id": "605d48ac-0e29-476a-bdfa-23909e32a221",
   "metadata": {},
   "outputs": [],
   "source": [
    "tokenized_datasets = tokenized_datasets.remove_columns(['sentence1', 'sentence2', 'idx'])\n",
    "tokenized_datasets = tokenized_datasets.rename_column('label', 'labels')\n",
    "tokenized_datasets.set_format('torch')"
   ]
  },
  {
   "cell_type": "code",
   "execution_count": null,
   "id": "4ba29b25-b2aa-4daa-94b1-447fedc82466",
   "metadata": {},
   "outputs": [],
   "source": [
    "tokenized_datasets['train'].column_names"
   ]
  },
  {
   "cell_type": "code",
   "execution_count": null,
   "id": "f7e01d58-cfb2-43e3-bc60-216743039849",
   "metadata": {},
   "outputs": [],
   "source": [
    "import torch\n",
    "from torch.utils.data import DataLoader"
   ]
  },
  {
   "cell_type": "code",
   "execution_count": null,
   "id": "36bdf4b3-fb30-42f2-adec-e6597274c453",
   "metadata": {},
   "outputs": [],
   "source": [
    "train_dataloader = DataLoader(\n",
    "    tokenized_datasets['train'], shuffle=True, batch_size=8, collate_fn=data_collator\n",
    ")"
   ]
  },
  {
   "cell_type": "code",
   "execution_count": null,
   "id": "9435aab0-a75d-49e4-9456-e79baf793dbf",
   "metadata": {},
   "outputs": [],
   "source": [
    "eval_dataloader = DataLoader(\n",
    "    tokenized_datasets['validation'], shuffle=True, batch_size=8, collate_fn=data_collator\n",
    ")"
   ]
  },
  {
   "cell_type": "code",
   "execution_count": null,
   "id": "83f6e34d-f4a7-40b4-b1ec-abbc404ac462",
   "metadata": {},
   "outputs": [],
   "source": [
    "for batch in train_dataloader:\n",
    "    break\n",
    "{k: v.shape for k, v in batch.items()}"
   ]
  },
  {
   "cell_type": "code",
   "execution_count": null,
   "id": "025efbba-b372-49f8-8aae-dcb5a5b507b3",
   "metadata": {},
   "outputs": [],
   "source": [
    "from transformers import AutoModelForSequenceClassification"
   ]
  },
  {
   "cell_type": "code",
   "execution_count": null,
   "id": "1d226ea8-13c8-415e-9f0a-5d7c28a0cce3",
   "metadata": {},
   "outputs": [],
   "source": [
    "model = AutoModelForSequenceClassification.from_pretrained(checkpoint, num_labels=2)"
   ]
  },
  {
   "cell_type": "code",
   "execution_count": null,
   "id": "3ee7aac8-3648-42fa-8538-04bedf9d99db",
   "metadata": {},
   "outputs": [],
   "source": [
    "model.to(device);"
   ]
  },
  {
   "cell_type": "code",
   "execution_count": null,
   "id": "a1d00afd-eb31-4573-9959-dde795550651",
   "metadata": {},
   "outputs": [],
   "source": [
    "batch_device = batch_encoding_to_device(batch)"
   ]
  },
  {
   "cell_type": "code",
   "execution_count": null,
   "id": "f31d63e9-34ed-42ae-8aef-48f07328543d",
   "metadata": {},
   "outputs": [],
   "source": [
    "outputs = model(**batch_device)"
   ]
  },
  {
   "cell_type": "code",
   "execution_count": null,
   "id": "95ecd116-3fe0-4825-95fb-db45874f7427",
   "metadata": {},
   "outputs": [],
   "source": [
    "outputs.loss, outputs.logits.shape"
   ]
  },
  {
   "cell_type": "code",
   "execution_count": null,
   "id": "ebf52df1-da90-40fe-8761-7cee95b9b0c7",
   "metadata": {},
   "outputs": [],
   "source": [
    "optimizer = torch.optim.AdamW(model.parameters(), lr=5e-5)"
   ]
  },
  {
   "cell_type": "code",
   "execution_count": null,
   "id": "2a9cef0c-c16b-4698-b78e-6e0c4f7ce3a2",
   "metadata": {},
   "outputs": [],
   "source": [
    "from transformers import get_scheduler"
   ]
  },
  {
   "cell_type": "code",
   "execution_count": null,
   "id": "155f70b6-6a43-4c56-bb68-ca1e740cfecd",
   "metadata": {},
   "outputs": [],
   "source": [
    "num_epochs = 3\n",
    "num_training_steps = num_epochs * len(train_dataloader)\n",
    "lr_scheduler = get_scheduler(\n",
    "    'linear',\n",
    "    optimizer=optimizer,\n",
    "    num_warmup_steps=0,\n",
    "    num_training_steps=num_training_steps\n",
    ")"
   ]
  },
  {
   "cell_type": "code",
   "execution_count": null,
   "id": "47f326c8-5db6-4f2e-b115-f37daf857461",
   "metadata": {},
   "outputs": [],
   "source": [
    "num_training_steps"
   ]
  },
  {
   "cell_type": "code",
   "execution_count": null,
   "id": "3c94fe7b-dd2e-47f3-b82e-1f48245a0434",
   "metadata": {},
   "outputs": [],
   "source": [
    "progress_bar = tqdm.auto.tqdm(range(num_training_steps))"
   ]
  },
  {
   "cell_type": "code",
   "execution_count": null,
   "id": "64200335-e244-42ca-b248-8d61f8435347",
   "metadata": {},
   "outputs": [],
   "source": [
    "lrs = []\n",
    "model.train()\n",
    "for epoch in range(num_epochs):\n",
    "    for batch in train_dataloader:\n",
    "        batch_device = batch_encoding_to_device(batch)\n",
    "        outputs = model(**batch_device)\n",
    "        loss = outputs.loss\n",
    "        loss.backward()\n",
    "\n",
    "        lrs.append(lr_scheduler.get_lr())\n",
    "        optimizer.step()\n",
    "        lr_scheduler.step()\n",
    "        optimizer.zero_grad()\n",
    "        progress_bar.update(1)"
   ]
  },
  {
   "cell_type": "code",
   "execution_count": null,
   "id": "9ca2ba83-e16e-4655-89f5-869823babef0",
   "metadata": {},
   "outputs": [],
   "source": [
    "import evaluate"
   ]
  },
  {
   "cell_type": "code",
   "execution_count": null,
   "id": "916adc97-c68e-4a2a-8145-14d0fdb7398c",
   "metadata": {},
   "outputs": [],
   "source": [
    "metric = evaluate.load('glue', 'mrpc')"
   ]
  },
  {
   "cell_type": "code",
   "execution_count": null,
   "id": "36d271e5-fe9c-4efa-91d8-420fc3831520",
   "metadata": {},
   "outputs": [],
   "source": [
    "model.eval()\n",
    "for batch in tqdm.tqdm(eval_dataloader):\n",
    "    batch_device = batch_encoding_to_device(batch)\n",
    "    with torch.no_grad():\n",
    "        outputs = model(**batch_device)\n",
    "\n",
    "    logits = outputs.logits\n",
    "    predictions = torch.argmax(logits, dim=-1)\n",
    "    metric.add_batch(predictions=predictions, references=batch['labels'])\n",
    "\n",
    "metric.compute()"
   ]
  },
  {
   "cell_type": "markdown",
   "id": "bd000366-f8c6-436a-b0e5-f43e9460f3b2",
   "metadata": {
    "jp-MarkdownHeadingCollapsed": true
   },
   "source": [
    "### Accelerate (distributed GPU training; can only use the one MPS GPU)"
   ]
  },
  {
   "cell_type": "code",
   "execution_count": null,
   "id": "c5cf0e31-0644-425f-8bed-d491b68e8664",
   "metadata": {},
   "outputs": [],
   "source": [
    "import torch"
   ]
  },
  {
   "cell_type": "code",
   "execution_count": null,
   "id": "3e2dfff8-bd6a-4b3e-b168-2651c06d5e37",
   "metadata": {},
   "outputs": [],
   "source": [
    "from accelerate import Accelerator\n",
    "from transformers import AutoModelForSequenceClassification, get_scheduler"
   ]
  },
  {
   "cell_type": "code",
   "execution_count": null,
   "id": "4f3e5bbd-cdde-4a57-841f-664056e2467f",
   "metadata": {},
   "outputs": [],
   "source": [
    "accelerator = Accelerator()"
   ]
  },
  {
   "cell_type": "code",
   "execution_count": null,
   "id": "25a09053-2fc5-4283-8b4f-a200b90790ca",
   "metadata": {},
   "outputs": [],
   "source": [
    "accelerator"
   ]
  },
  {
   "cell_type": "code",
   "execution_count": null,
   "id": "b6348fbf-9c5d-434d-a2e3-bfa2c5c10cec",
   "metadata": {},
   "outputs": [],
   "source": [
    "accelerator.device"
   ]
  },
  {
   "cell_type": "code",
   "execution_count": null,
   "id": "35020e9b-591b-4e4a-ae0d-b6d631966cd4",
   "metadata": {},
   "outputs": [],
   "source": [
    "model = AutoModelForSequenceClassification.from_pretrained(checkpoint, num_labels=2)\n",
    "optimizer = torch.optim.AdamW(model.parameters(), lr=3e-5)"
   ]
  },
  {
   "cell_type": "code",
   "execution_count": null,
   "id": "5dad60fa-8223-4f34-8104-645c3115f8f9",
   "metadata": {},
   "outputs": [],
   "source": [
    "model.to(device);"
   ]
  },
  {
   "cell_type": "code",
   "execution_count": null,
   "id": "245f78ed-3402-4520-8028-ce2cc968ed15",
   "metadata": {},
   "outputs": [],
   "source": [
    "train_dataloader, eval_dataloader, model, optimizer = accelerator.prepare(\n",
    "    train_dataloader, eval_dataloader, model, optimizer\n",
    ")"
   ]
  },
  {
   "cell_type": "code",
   "execution_count": null,
   "id": "391cffa5-221c-4dc6-a9f5-53b8f3fa1e99",
   "metadata": {},
   "outputs": [],
   "source": [
    "num_epochs = 3\n",
    "num_training_steps = num_epochs * len(train_dataloader)\n",
    "lr_scheduler = get_scheduler(\n",
    "  \"linear\",\n",
    "  optimizer=optimizer,\n",
    "  num_warmup_steps=0,\n",
    "  num_training_steps=num_training_steps\n",
    ")"
   ]
  },
  {
   "cell_type": "code",
   "execution_count": null,
   "id": "f4391b1a-928f-470a-808b-6ca9b3b942f5",
   "metadata": {},
   "outputs": [],
   "source": [
    "progress_bar = tqdm.auto.tqdm(range(num_training_steps))\n",
    "\n",
    "model.train()\n",
    "for epoch in range(num_epochs):\n",
    "  for batch in train_dataloader:\n",
    "      outputs = model(**batch)\n",
    "      loss = outputs.loss\n",
    "      accelerator.backward(loss)\n",
    "\n",
    "      optimizer.step()\n",
    "      lr_scheduler.step()\n",
    "      optimizer.zero_grad()\n",
    "      progress_bar.update(1)"
   ]
  },
  {
   "cell_type": "markdown",
   "id": "84d77b77-f9a1-4c6b-907b-927a73ffcebb",
   "metadata": {},
   "source": [
    "On command line:\n",
    "```\n",
    "accelerate config\n",
    "accelerate launch train.py\n",
    "```"
   ]
  },
  {
   "cell_type": "code",
   "execution_count": null,
   "id": "51a0e9bc-33bc-490a-830a-d141bfb89966",
   "metadata": {},
   "outputs": [],
   "source": []
  }
 ],
 "metadata": {
  "kernelspec": {
   "display_name": "Python 3 (ipykernel)",
   "language": "python",
   "name": "python3"
  },
  "language_info": {
   "codemirror_mode": {
    "name": "ipython",
    "version": 3
   },
   "file_extension": ".py",
   "mimetype": "text/x-python",
   "name": "python",
   "nbconvert_exporter": "python",
   "pygments_lexer": "ipython3",
   "version": "3.11.8"
  }
 },
 "nbformat": 4,
 "nbformat_minor": 5
}
