{
 "cells": [
  {
   "cell_type": "code",
   "execution_count": null,
   "metadata": {},
   "outputs": [],
   "source": [
    "import numpy as np\n",
    "import matplotlib.pyplot as plt\n",
    "import pandas as pd\n",
    "import scipy\n",
    "import tqdm"
   ]
  },
  {
   "cell_type": "markdown",
   "metadata": {
    "jp-MarkdownHeadingCollapsed": true
   },
   "source": [
    "## Functions"
   ]
  },
  {
   "cell_type": "code",
   "execution_count": null,
   "metadata": {},
   "outputs": [],
   "source": [
    "def parent_replication(population, fitness, size):\n",
    "    \"\"\"Select parents via replication method.\n",
    "\n",
    "    Parameters\n",
    "    ----------\n",
    "    population : np.array\n",
    "        The current population.\n",
    "    fitness : np.array\n",
    "        The fitness of each member in the population.\n",
    "    size : int\n",
    "        The population size.\n",
    "\n",
    "    Returns\n",
    "    -------\n",
    "    parents : np.array\n",
    "        The parents sampled from the fitness probability distribution.\n",
    "    \"\"\"\n",
    "    # Approximate probability distribution from inverse of fitness (low fitness has high probability)\n",
    "    fitness_inv = 1 / fitness\n",
    "    fitness_pdf = fitness_inv / fitness_inv.sum()\n",
    "    # Randomly sample indices from fitness probability distribution\n",
    "    rand_inds = np.random.choice(np.arange(size), size=size, p=fitness_pdf)\n",
    "    # Select parents from random indices\n",
    "    parents = population[rand_inds]\n",
    "        \n",
    "    return parents"
   ]
  },
  {
   "cell_type": "code",
   "execution_count": null,
   "metadata": {},
   "outputs": [],
   "source": [
    "def parent_tournament(population, fitness, size, n_params, n_cands_per_child):\n",
    "    \"\"\"Select parents via tournament method.\n",
    "\n",
    "    Parameters\n",
    "    ----------\n",
    "    population : np.array\n",
    "        The current population.\n",
    "    fitness : np.array\n",
    "        The fitness of each member in the population.\n",
    "    size : int\n",
    "        The population size.\n",
    "    n_params : int\n",
    "        The number of parameters in the population.\n",
    "    n_cands_per_child : int\n",
    "        The number of parent candidates to produce a child.\n",
    "\n",
    "    Returns\n",
    "    -------\n",
    "    parents : np.array\n",
    "        The parents with the best fitness from each tournament.\n",
    "    \"\"\"\n",
    "    # Randomly choose parent candidates\n",
    "    n_cands = size * n_cands_per_child\n",
    "    rand_inds = np.random.choice(np.arange(size), size=n_cands)\n",
    "    # Select parent and fitness candidates for tournament\n",
    "    parent_cands = population[rand_inds].reshape(size, n_cands_per_child, n_params)\n",
    "    fitness_cands = fitness[rand_inds].reshape(size, n_cands_per_child)\n",
    "    # Select parents with minimum fitness in each group of n_cands_per_child\n",
    "    min_inds = np.argmin(fitness_cands, axis=1)\n",
    "    parents = parent_cands[np.arange(size), min_inds]\n",
    "    \n",
    "    return parents"
   ]
  },
  {
   "cell_type": "code",
   "execution_count": null,
   "metadata": {},
   "outputs": [],
   "source": [
    "def crossover(parents, crossover_rate):\n",
    "    \"\"\"Produce children by crossing over parents.\n",
    "\n",
    "    Parameters\n",
    "    ----------\n",
    "    parents : np.array\n",
    "        The parents to crossover.\n",
    "    crossover_rate : float\n",
    "        The crossover rate.\n",
    "\n",
    "    Returns\n",
    "    -------\n",
    "    children : np.array\n",
    "        The children produced by crossing over parents.\n",
    "    \"\"\"\n",
    "    # Find crossover index\n",
    "    cross_ind = int(crossover_rate * parents.shape[1])\n",
    "    # Slice parents at crossover index\n",
    "    children1 = parents[:, :, :cross_ind]\n",
    "    # Crossover genes at crossover index\n",
    "    children2 = np.flip(parents[:, :, cross_ind:], axis=1)\n",
    "    # Produce children by concatenating genes\n",
    "    children = np.concatenate((children1, children2), axis=2)\n",
    "    \n",
    "    return children"
   ]
  },
  {
   "cell_type": "code",
   "execution_count": null,
   "metadata": {},
   "outputs": [],
   "source": [
    "def mutation(children, mutation_rate):\n",
    "    \"\"\"Randomly mutate children.\n",
    "\n",
    "    Parameters\n",
    "    ----------\n",
    "    children : np.array\n",
    "        The children produced by crossing over parents.\n",
    "    mutation_rate : float\n",
    "        The mutation rate.\n",
    "\n",
    "    Returns\n",
    "    -------\n",
    "    children : np.array\n",
    "        The children after mutating.\n",
    "    \"\"\"\n",
    "    # Generate mutation mask\n",
    "    mutation_mask = np.random.random(children.shape) <= mutation_rate\n",
    "    # Mutate children by adding noise sampled from a standard normal distribution\n",
    "    children[mutation_mask] += np.random.standard_normal(mutation_mask.sum())\n",
    "    \n",
    "    return children"
   ]
  },
  {
   "cell_type": "code",
   "execution_count": null,
   "metadata": {},
   "outputs": [],
   "source": [
    "def genetic_algorithm(\n",
    "    x, \n",
    "    y, \n",
    "    generations=100, \n",
    "    population=None, \n",
    "    size=800, \n",
    "    select_parents='tournament', \n",
    "    n_params=2, \n",
    "    n_cands_per_child=8, \n",
    "    crossover_rate=0.5, \n",
    "    mutation_rate=0.05\n",
    "):\n",
    "\n",
    "    \"\"\"Execute the genetic algorithm to optimize parameters.\n",
    "\n",
    "    If not provided, an random population is set. For each generation:\n",
    "    1. The popolation and fitness are evaluated and recorded.\n",
    "    2. Parents are selected via replication or tournament.\n",
    "    3. Parents are shuffled and paired for reproduction.\n",
    "    4. Parents produce children via crossing over.\n",
    "    5. New population is set by children after mutation.\n",
    "\n",
    "    Parameters\n",
    "    ----------\n",
    "    x : np.array\n",
    "        Inputs of a function.\n",
    "    y : np.array\n",
    "        Outputs of a function.\n",
    "    generations : int, defult=1000\n",
    "        The number of generations to simulate.\n",
    "    population : np.array, default=None\n",
    "        The starting population. If None, sample population from N(0,1).\n",
    "    size : int\n",
    "        The population size.\n",
    "    select_parents : str, default='tournament'\n",
    "        Method for selecting parents. Only valid arguments are 'replication' and 'tournament'.\n",
    "    n_params : int, default=2\n",
    "        The number of parameters in the population.\n",
    "    n_cands_per_child : int, default=8\n",
    "        The number of parent candidates to produce a child.\n",
    "    crossover_rate : float, default=0.5\n",
    "        The crossover rate.\n",
    "    mutation_rate : float, default=0.05\n",
    "        The mutation rate.\n",
    "\n",
    "    Returns\n",
    "    -------\n",
    "    population : np.array\n",
    "        The final generation's population.\n",
    "    fitness_metrics : np.array\n",
    "        The mean, standard deviation, and minimum fitness of each generation.\n",
    "    \"\"\"\n",
    "    \n",
    "    # Make initial random population if necessary\n",
    "    if population == None:\n",
    "        population = np.random.standard_normal(size=(size, n_params))\n",
    "    \n",
    "    # Initiate metrics\n",
    "    metrics = np.zeros((generations, 7))\n",
    "    \n",
    "    for i in tqdm.tqdm(range(generations)):\n",
    "        # Find fitness of each sample\n",
    "        fit = population[:, 0:1] @ x.reshape(1, -1) + population[:, 1:]\n",
    "        fitness = np.sum((fit - y) ** 2, axis=1)\n",
    "        \n",
    "        # Record metrics\n",
    "        metrics[i, 0:3] = [fitness.mean(), fitness.std(), fitness.min()]\n",
    "        metrics[i, 3:5] = np.median(population, axis=0)\n",
    "        metrics[i, 5:7] = scipy.stats.median_abs_deviation(population, axis=0)\n",
    "        \n",
    "        # Select parents\n",
    "        if select_parents == 'replication':\n",
    "            parents = parent_replication(population, fitness, size)\n",
    "        elif select_parents == 'tournament':\n",
    "            parents = parent_tournament(population, fitness, size, n_params, n_cands_per_child)\n",
    "        else:\n",
    "            raise ValueError(f'{select_parents} is invalid. Use \"replication\" or \"tournament\".')\n",
    "\n",
    "        # Pair up shuffled parents to reproduce\n",
    "        np.random.shuffle(parents)\n",
    "        parents = parents.reshape(size // 2, 2, n_params)\n",
    "        \n",
    "        # Produce children by crossing over parents\n",
    "        children = crossover(parents, crossover_rate)\n",
    "        children = children.reshape(size, n_params)\n",
    "        \n",
    "        # Produce new population by mutating children\n",
    "        population = mutation(children, mutation_rate)\n",
    "\n",
    "    # Convert metrics to dataframe\n",
    "    columns = ['fitness_mean', 'fitness_std', 'fitness_min', 'w_median', 'b_median', 'w_mad', 'b_mad']\n",
    "    metrics = pd.DataFrame(metrics, columns=columns)\n",
    "    return population, metrics"
   ]
  },
  {
   "cell_type": "markdown",
   "metadata": {
    "jp-MarkdownHeadingCollapsed": true
   },
   "source": [
    "## Simulate data"
   ]
  },
  {
   "cell_type": "code",
   "execution_count": null,
   "metadata": {},
   "outputs": [],
   "source": [
    "width = 20\n",
    "x = np.arange(-5, 5, 0.1)\n",
    "\n",
    "w_true = (np.random.rand() - 0.5) * width\n",
    "b_true = (np.random.rand() - 0.5) * width\n",
    "y_true = w_true * x + b_true\n",
    "\n",
    "noise = np.sqrt(width) * np.random.randn(x.shape[0])\n",
    "y = y_true + noise"
   ]
  },
  {
   "cell_type": "code",
   "execution_count": null,
   "metadata": {},
   "outputs": [],
   "source": [
    "plt.title(f'{w_true:.3f}x+{b_true:.3f}')\n",
    "plt.grid()\n",
    "plt.scatter(x, y)\n",
    "plt.xlabel('X')\n",
    "plt.ylabel('Y')"
   ]
  },
  {
   "cell_type": "markdown",
   "metadata": {
    "jp-MarkdownHeadingCollapsed": true
   },
   "source": [
    "## Fit and evaluate"
   ]
  },
  {
   "cell_type": "code",
   "execution_count": null,
   "metadata": {},
   "outputs": [],
   "source": [
    "population, metrics = genetic_algorithm(x, y)"
   ]
  },
  {
   "cell_type": "code",
   "execution_count": null,
   "metadata": {},
   "outputs": [],
   "source": [
    "w_median, b_median = np.median(population, axis=0)\n",
    "print (f'True params: weight={w_true}, bias={b_true}')\n",
    "print (f'Evolved params: weight={w_median}, bias={b_median}')"
   ]
  },
  {
   "cell_type": "code",
   "execution_count": null,
   "metadata": {},
   "outputs": [],
   "source": [
    "fig, axs = plt.subplots(1,2,figsize=[10,5])\n",
    "\n",
    "axs[0].set_title('Fitness Metrics')\n",
    "axs[0].grid()\n",
    "axs[0].plot(metrics['fitness_mean'], label='mean')\n",
    "axs[0].plot(metrics['fitness_std'], label='std')\n",
    "axs[0].plot(metrics['fitness_min'], label='min')\n",
    "axs[0].set_xlabel('Generation')\n",
    "axs[0].set_ylabel('Fitness')\n",
    "axs[0].set_xscale('log')\n",
    "axs[0].set_yscale('log')\n",
    "axs[0].legend()\n",
    "\n",
    "axs[1].set_title('Parameter Metrics')\n",
    "axs[1].grid()\n",
    "axs[1].errorbar(metrics.index, metrics['w_median'], metrics['w_mad'], label='weight')\n",
    "axs[1].errorbar(metrics.index, metrics['b_median'], metrics['b_mad'], label='bias')\n",
    "axs[1].hlines(w_true, 0, metrics.index.max(), color='C0', ls='--', label='true weight')\n",
    "axs[1].hlines(b_true, 0, metrics.index.max(), color='C1', ls='--', label='true bias')\n",
    "axs[1].set_xlabel('Generation')\n",
    "axs[1].set_ylabel('Parameters')\n",
    "axs[1].set_xscale('log')\n",
    "axs[1].legend(ncol=2)"
   ]
  },
  {
   "cell_type": "code",
   "execution_count": null,
   "metadata": {},
   "outputs": [],
   "source": [
    "y_pred_generations = metrics['w_median'].values.reshape(-1, 1) @ x.reshape(1, -1) + metrics['b_median'].values.reshape(-1, 1)\n",
    "y_pred = w_median * x + b_median\n",
    "\n",
    "plt.title('GA Fits')\n",
    "plt.grid()\n",
    "plt.scatter(x, y, label=f'true: w={w_true:.3f}, b={b_true:.3f}')\n",
    "for y_pred_gen_i in y_pred_generations:\n",
    "    plt.plot(x, y_pred_gen_i, color='C1', alpha=0.1)\n",
    "plt.plot(x, y_pred, color='C1', label=f'ga: w={w_median:.3f}, b={b_median:.3f}')\n",
    "plt.xlabel('X')\n",
    "plt.ylabel('Y')\n",
    "plt.legend()"
   ]
  },
  {
   "cell_type": "markdown",
   "metadata": {
    "jp-MarkdownHeadingCollapsed": true
   },
   "source": [
    "## Compare with least squares"
   ]
  },
  {
   "cell_type": "code",
   "execution_count": null,
   "metadata": {},
   "outputs": [],
   "source": [
    "z = np.polyfit(x, y, deg=1)\n",
    "p = np.poly1d(z)\n",
    "fit = p(x)"
   ]
  },
  {
   "cell_type": "code",
   "execution_count": null,
   "metadata": {},
   "outputs": [],
   "source": [
    "plt.title('Least Squares vs GA')\n",
    "plt.grid()\n",
    "plt.scatter(x, y, label=f'true: w={w_true:.3f}, b={b_true:.3f}')\n",
    "plt.plot(x, y_pred, color='C1', \n",
    "         label=f'ga: w={w_median:.3f}, b={b_median:.3f}')\n",
    "plt.legend()\n",
    "plt.plot(x, fit, '--', color='C2',\n",
    "         label=f'polyfit: w={z[0]:.3f}, b={z[1]:.3f}')\n",
    "plt.xlabel('X')\n",
    "plt.ylabel('Y')\n",
    "plt.legend()"
   ]
  },
  {
   "cell_type": "code",
   "execution_count": null,
   "metadata": {},
   "outputs": [],
   "source": [
    "fig, axs = plt.subplots(1,2,figsize=[10,5])\n",
    "\n",
    "axs[0].set_title('Residuals Histogram')\n",
    "axs[0].grid()\n",
    "axs[0].hist(y - y_pred, alpha=0.5, color='C1', label='ga')\n",
    "axs[0].hist(y - fit, alpha=0.5, color='C2', label='polyfit')\n",
    "axs[0].set_xlabel('Frequency')\n",
    "axs[0].set_ylabel('Residuals')\n",
    "axs[0].legend()\n",
    "\n",
    "axs[1].set_title('Residuals Plot')\n",
    "axs[1].grid()\n",
    "axs[1].plot(x, y - y_pred, alpha=0.5, color='C1', label='ga')\n",
    "axs[1].plot(x, y - fit, alpha=0.5, color='C2', label='polyfit')\n",
    "axs[1].set_xlabel('X')\n",
    "axs[1].set_ylabel('Residuals')\n",
    "axs[1].legend()"
   ]
  },
  {
   "cell_type": "code",
   "execution_count": null,
   "metadata": {},
   "outputs": [],
   "source": [
    "print (f'\\t ga\\t\\t\\t polyfit')\n",
    "print (f'weight\\t {w_median}\\t {z[0]}')\n",
    "print (f'bias\\t {b_median}\\t {z[1]}')\n",
    "print (f'mse\\t {np.mean(np.square(y_pred - y))}\\t {np.mean(np.square(fit - y))}')\n",
    "print (f'mae\\t {np.mean(np.abs(y_pred - y))}\\t {np.mean(np.abs(fit - y))}')"
   ]
  },
  {
   "cell_type": "code",
   "execution_count": null,
   "metadata": {},
   "outputs": [],
   "source": []
  }
 ],
 "metadata": {
  "kernelspec": {
   "display_name": "Python 3 (ipykernel)",
   "language": "python",
   "name": "python3"
  },
  "language_info": {
   "codemirror_mode": {
    "name": "ipython",
    "version": 3
   },
   "file_extension": ".py",
   "mimetype": "text/x-python",
   "name": "python",
   "nbconvert_exporter": "python",
   "pygments_lexer": "ipython3",
   "version": "3.11.8"
  }
 },
 "nbformat": 4,
 "nbformat_minor": 4
}
